{
 "nbformat": 4,
 "nbformat_minor": 2,
 "metadata": {
  "language_info": {
   "name": "python",
   "codemirror_mode": {
    "name": "ipython",
    "version": 3
   },
   "version": "3.6.9"
  },
  "orig_nbformat": 2,
  "file_extension": ".py",
  "mimetype": "text/x-python",
  "name": "python",
  "npconvert_exporter": "python",
  "pygments_lexer": "ipython3",
  "version": 3
 },
 "cells": [
  {
   "cell_type": "code",
   "execution_count": 1,
   "metadata": {},
   "outputs": [],
   "source": [
    "from mxnet import nd"
   ]
  },
  {
   "cell_type": "markdown",
   "execution_count": null,
   "metadata": {},
   "outputs": [],
   "source": [
    "- In mxnet, scalars are NDArrays with one element."
   ]
  },
  {
   "cell_type": "code",
   "execution_count": 2,
   "metadata": {},
   "outputs": [
    {
     "data": {
      "text/plain": "\n[2.]\n<NDArray 1 @cpu(0)>"
     },
     "execution_count": 2,
     "metadata": {},
     "output_type": "execute_result"
    }
   ],
   "source": [
    "x = nd.array([2])\n",
    "x"
   ]
  },
  {
   "cell_type": "code",
   "execution_count": 3,
   "metadata": {},
   "outputs": [
    {
     "name": "stdout",
     "output_type": "stream",
     "text": "(1,)\n"
    }
   ],
   "source": [
    "print(x.shape)"
   ]
  },
  {
   "cell_type": "markdown",
   "execution_count": null,
   "metadata": {},
   "outputs": [],
   "source": [
    "- NDArray can be converted to python float by calling its asscalar method"
   ]
  },
  {
   "cell_type": "code",
   "execution_count": 4,
   "metadata": {},
   "outputs": [
    {
     "name": "stdout",
     "output_type": "stream",
     "text": "\n[2.]\n<NDArray 1 @cpu(0)>\n2.0\n"
    }
   ],
   "source": [
    "print(x)\n",
    "print(x.asscalar())"
   ]
  },
  {
   "cell_type": "markdown",
   "execution_count": null,
   "metadata": {},
   "outputs": [],
   "source": [
    "- we can transpose the matrix through T"
   ]
  },
  {
   "cell_type": "code",
   "execution_count": 6,
   "metadata": {},
   "outputs": [
    {
     "name": "stdout",
     "output_type": "stream",
     "text": "\n[[0. 1. 2. 3. 4.]\n [5. 6. 7. 8. 9.]]\n<NDArray 2x5 @cpu(0)>\n\n[[0. 5.]\n [1. 6.]\n [2. 7.]\n [3. 8.]\n [4. 9.]]\n<NDArray 5x2 @cpu(0)>\n"
    }
   ],
   "source": [
    "A = nd.arange(10).reshape(2,-1)\n",
    "print(A)\n",
    "print(A.T)"
   ]
  },
  {
   "cell_type": "markdown",
   "execution_count": null,
   "metadata": {},
   "outputs": [],
   "source": [
    "- we can call nd.sum to compute the sum of NDArray"
   ]
  },
  {
   "cell_type": "code",
   "execution_count": 8,
   "metadata": {},
   "outputs": [
    {
     "name": "stdout",
     "output_type": "stream",
     "text": "\n[45.]\n<NDArray 1 @cpu(0)>\n"
    }
   ],
   "source": [
    "# sum of all elements of A\n",
    "print(nd.sum(A))"
   ]
  },
  {
   "cell_type": "code",
   "execution_count": 9,
   "metadata": {},
   "outputs": [
    {
     "name": "stdout",
     "output_type": "stream",
     "text": "\n[ 5.  7.  9. 11. 13.]\n<NDArray 5 @cpu(0)>\n"
    }
   ],
   "source": [
    "# sum of element of A along dim 0\n",
    "print(nd.sum(A,0))"
   ]
  },
  {
   "cell_type": "markdown",
   "execution_count": null,
   "metadata": {},
   "outputs": [],
   "source": [
    "- We can use nd.dot() to perform the vector dot product and matrix-vector product and matrix-matrix product"
   ]
  },
  {
   "cell_type": "code",
   "execution_count": 10,
   "metadata": {},
   "outputs": [
    {
     "name": "stdout",
     "output_type": "stream",
     "text": "\n[1. 2. 3. 4.]\n<NDArray 4 @cpu(0)> \n[1. 1. 1. 1.]\n<NDArray 4 @cpu(0)> \n[10.]\n<NDArray 1 @cpu(0)>\n"
    }
   ],
   "source": [
    "x = nd.arange(4) + 1\n",
    "y = nd.ones(4)\n",
    "print(x,y,nd.dot(x,y))"
   ]
  },
  {
   "cell_type": "code",
   "execution_count": 12,
   "metadata": {},
   "outputs": [
    {
     "name": "stdout",
     "output_type": "stream",
     "text": "\n[[ 0.  1.  2.  3.]\n [ 4.  5.  6.  7.]\n [ 8.  9. 10. 11.]]\n<NDArray 3x4 @cpu(0)> \n[ 20.  60. 100.]\n<NDArray 3 @cpu(0)>\n"
    }
   ],
   "source": [
    "A = nd.arange(12).reshape((3,4))\n",
    "print(A, nd.dot(A,x))"
   ]
  },
  {
   "cell_type": "code",
   "execution_count": 14,
   "metadata": {},
   "outputs": [
    {
     "name": "stdout",
     "output_type": "stream",
     "text": "A:= \n[[ 0.  1.  2.  3.]\n [ 4.  5.  6.  7.]\n [ 8.  9. 10. 11.]]\n<NDArray 3x4 @cpu(0)>\nx: \n[1. 2. 3. 4.]\n<NDArray 4 @cpu(0)>\nA*x: \n[[ 0.  2.  6. 12.]\n [ 4. 10. 18. 28.]\n [ 8. 18. 30. 44.]]\n<NDArray 3x4 @cpu(0)>\n"
    }
   ],
   "source": [
    "print(\"A:=\",A)\n",
    "print(\"x:\",x)\n",
    "# using broadcasting mechanism\n",
    "print(\"A*x:\",A*x)"
   ]
  },
  {
   "cell_type": "code",
   "execution_count": 17,
   "metadata": {},
   "outputs": [
    {
     "name": "stdout",
     "output_type": "stream",
     "text": "A:= \n[[ 0.  1.  2.]\n [ 3.  4.  5.]\n [ 6.  7.  8.]\n [ 9. 10. 11.]]\n<NDArray 4x3 @cpu(0)>\nx: \n[[1.]\n [2.]\n [3.]\n [4.]]\n<NDArray 4x1 @cpu(0)>\nA*x: \n[[ 0.  1.  2.]\n [ 6.  8. 10.]\n [18. 21. 24.]\n [36. 40. 44.]]\n<NDArray 4x3 @cpu(0)>\n"
    }
   ],
   "source": [
    "A = A.reshape((4,3))\n",
    "x = x.reshape((4,1))\n",
    "print(\"A:=\",A)\n",
    "print(\"x:\",x)\n",
    "# using broadcasting mechanism\n",
    "print(\"A*x:\",A*x)"
   ]
  }
 ]
}