{
 "nbformat": 4,
 "nbformat_minor": 2,
 "metadata": {
  "language_info": {
   "name": "python",
   "codemirror_mode": {
    "name": "ipython",
    "version": 3
   },
   "version": "3.6.9"
  },
  "orig_nbformat": 2,
  "file_extension": ".py",
  "mimetype": "text/x-python",
  "name": "python",
  "npconvert_exporter": "python",
  "pygments_lexer": "ipython3",
  "version": 3
 },
 "cells": [
  {
   "cell_type": "code",
   "execution_count": 1,
   "metadata": {},
   "outputs": [],
   "source": [
    "import mxnet as mx\n",
    "from mxnet import nd"
   ]
  },
  {
   "cell_type": "markdown",
   "execution_count": null,
   "metadata": {},
   "outputs": [],
   "source": [
    "- `arange` creates a row vector:"
   ]
  },
  {
   "cell_type": "code",
   "execution_count": 2,
   "metadata": {},
   "outputs": [
    {
     "data": {
      "text/plain": "\n[0. 1. 2. 3. 4. 5. 6. 7. 8. 9.]\n<NDArray 10 @cpu(0)>"
     },
     "execution_count": 2,
     "metadata": {},
     "output_type": "execute_result"
    }
   ],
   "source": [
    "x = nd.arange(10)\n",
    "x"
   ]
  },
  {
   "cell_type": "markdown",
   "execution_count": null,
   "metadata": {},
   "outputs": [],
   "source": [
    "- query the shape of a NDArray"
   ]
  },
  {
   "cell_type": "code",
   "execution_count": 3,
   "metadata": {},
   "outputs": [
    {
     "data": {
      "text/plain": "(10,)"
     },
     "execution_count": 3,
     "metadata": {},
     "output_type": "execute_result"
    }
   ],
   "source": [
    "x.shape"
   ]
  },
  {
   "cell_type": "markdown",
   "execution_count": null,
   "metadata": {},
   "outputs": [],
   "source": [
    "- query the size of a NDArray"
   ]
  },
  {
   "cell_type": "code",
   "execution_count": 5,
   "metadata": {},
   "outputs": [
    {
     "data": {
      "text/plain": "10"
     },
     "execution_count": 5,
     "metadata": {},
     "output_type": "execute_result"
    }
   ],
   "source": [
    "x.size"
   ]
  },
  {
   "cell_type": "markdown",
   "execution_count": 7,
   "metadata": {},
   "outputs": [
    {
     "ename": "SyntaxError",
     "evalue": "invalid syntax (<ipython-input-7-5542a65d288e>, line 1)",
     "output_type": "error",
     "traceback": [
      "\u001b[1;36m  File \u001b[1;32m\"<ipython-input-7-5542a65d288e>\"\u001b[1;36m, line \u001b[1;32m1\u001b[0m\n\u001b[1;33m    - reshape the shape of a NDArray\u001b[0m\n\u001b[1;37m                ^\u001b[0m\n\u001b[1;31mSyntaxError\u001b[0m\u001b[1;31m:\u001b[0m invalid syntax\n"
     ]
    }
   ],
   "source": [
    "- reshape the shape of a NDArray\n",
    "- we can use -1 to fill in defaults."
   ]
  },
  {
   "cell_type": "code",
   "execution_count": 10,
   "metadata": {},
   "outputs": [
    {
     "name": "stdout",
     "output_type": "stream",
     "text": "\n[[0. 1. 2. 3. 4.]\n [5. 6. 7. 8. 9.]]\n<NDArray 2x5 @cpu(0)>\n(2, 5)\n"
    }
   ],
   "source": [
    "x = x.reshape(-1,5)\n",
    "print(x)\n",
    "print(x.shape)"
   ]
  },
  {
   "cell_type": "markdown",
   "execution_count": null,
   "metadata": {},
   "outputs": [],
   "source": [
    "- empty method creates the uninitialized array"
   ]
  },
  {
   "cell_type": "code",
   "execution_count": 12,
   "metadata": {},
   "outputs": [
    {
     "data": {
      "text/plain": "\n[[0.000000e+00 0.000000e+00 0.000000e+00 0.000000e+00]\n [0.000000e+00 0.000000e+00 3.295854e-42 0.000000e+00]\n [0.000000e+00 4.132760e-39 0.000000e+00 9.275548e-39]]\n<NDArray 3x4 @cpu(0)>"
     },
     "execution_count": 12,
     "metadata": {},
     "output_type": "execute_result"
    }
   ],
   "source": [
    "nd.empty((3,4))"
   ]
  },
  {
   "cell_type": "markdown",
   "execution_count": null,
   "metadata": {},
   "outputs": [],
   "source": [
    "- zeros method creates an array with all zeros"
   ]
  },
  {
   "cell_type": "code",
   "execution_count": 13,
   "metadata": {},
   "outputs": [
    {
     "data": {
      "text/plain": "\n[[0. 0. 0. 0.]\n [0. 0. 0. 0.]\n [0. 0. 0. 0.]]\n<NDArray 3x4 @cpu(0)>"
     },
     "execution_count": 13,
     "metadata": {},
     "output_type": "execute_result"
    }
   ],
   "source": [
    "nd.zeros((3,4))"
   ]
  },
  {
   "cell_type": "markdown",
   "execution_count": null,
   "metadata": {},
   "outputs": [],
   "source": [
    "- ones method creates an array with all ones"
   ]
  },
  {
   "cell_type": "code",
   "execution_count": 14,
   "metadata": {},
   "outputs": [
    {
     "data": {
      "text/plain": "\n[[1. 1. 1. 1.]\n [1. 1. 1. 1.]\n [1. 1. 1. 1.]]\n<NDArray 3x4 @cpu(0)>"
     },
     "execution_count": 14,
     "metadata": {},
     "output_type": "execute_result"
    }
   ],
   "source": [
    "nd.ones((3,4))"
   ]
  },
  {
   "cell_type": "markdown",
   "execution_count": null,
   "metadata": {},
   "outputs": [],
   "source": [
    "- we can create NDArray by python list"
   ]
  },
  {
   "cell_type": "code",
   "execution_count": 15,
   "metadata": {},
   "outputs": [
    {
     "data": {
      "text/plain": "\n[[1. 2.]\n [2. 3.]\n [3. 4.]]\n<NDArray 3x2 @cpu(0)>"
     },
     "execution_count": 15,
     "metadata": {},
     "output_type": "execute_result"
    }
   ],
   "source": [
    "y = nd.array([[1,2],[2,3],[3,4]])\n",
    "y"
   ]
  },
  {
   "cell_type": "markdown",
   "execution_count": null,
   "metadata": {},
   "outputs": [],
   "source": [
    "- normal method generates a normal distribution"
   ]
  },
  {
   "cell_type": "code",
   "execution_count": 17,
   "metadata": {},
   "outputs": [
    {
     "data": {
      "text/plain": "\n[[-0.68106437 -0.1353156   0.37723133  0.41016456]\n [ 0.5712682  -2.7579627   1.07628    -0.6141325 ]\n [ 1.8307649  -1.1468065   0.05383794 -2.5074806 ]]\n<NDArray 3x4 @cpu(0)>"
     },
     "execution_count": 17,
     "metadata": {},
     "output_type": "execute_result"
    }
   ],
   "source": [
    "# zero mean, unit variance\n",
    "x = nd.random.normal(0, 1, shape=(3,4))\n",
    "x"
   ]
  },
  {
   "cell_type": "markdown",
   "execution_count": null,
   "metadata": {},
   "outputs": [],
   "source": [
    "- standard arithmetic operators(such as +,-,*/) have all been lifted to element-wise operations."
   ]
  },
  {
   "cell_type": "code",
   "execution_count": 18,
   "metadata": {},
   "outputs": [
    {
     "name": "stdout",
     "output_type": "stream",
     "text": "x=: \n[1. 2. 3.]\n<NDArray 3 @cpu(0)>\ny=: \n[3. 3. 3.]\n<NDArray 3 @cpu(0)>\nx+y=: \n[4. 5. 6.]\n<NDArray 3 @cpu(0)>\nx/y=: \n[0.33333334 0.6666667  1.        ]\n<NDArray 3 @cpu(0)>\n"
    }
   ],
   "source": [
    "x = nd.array([1,2,3])\n",
    "# using the shape of x to create y\n",
    "y = nd.ones_like(x)*3 \n",
    "print(\"x=:\",x)\n",
    "print(\"y=:\",y)\n",
    "print(\"x+y=:\", x+y)\n",
    "print(\"x/y=:\", x/y)"
   ]
  },
  {
   "cell_type": "markdown",
   "execution_count": null,
   "metadata": {},
   "outputs": [],
   "source": [
    "- use dot function for matrix operations"
   ]
  },
  {
   "cell_type": "code",
   "execution_count": 20,
   "metadata": {},
   "outputs": [
    {
     "name": "stdout",
     "output_type": "stream",
     "text": "x: \n[[ 0.  1.  2.  3.]\n [ 4.  5.  6.  7.]\n [ 8.  9. 10. 11.]]\n<NDArray 3x4 @cpu(0)>\ny: \n[[ 2.  3.  4.  5.]\n [ 6.  7.  8.  9.]\n [10. 11. 12. 13.]]\n<NDArray 3x4 @cpu(0)>\n\n[[ 26.  50.  74.]\n [ 82. 170. 258.]\n [138. 290. 442.]]\n<NDArray 3x3 @cpu(0)>\n"
    }
   ],
   "source": [
    "x = nd.arange(12).reshape((3,4))\n",
    "y = nd.arange(2,14).reshape((3,4))\n",
    "print(\"x:\",x)\n",
    "print(\"y:\",y)\n",
    "# shape error, the shape of y is (3,4)\n",
    "#print(nd.dot(x,y))\n",
    "print(nd.dot(x,y.T))"
   ]
  },
  {
   "cell_type": "markdown",
   "execution_count": null,
   "metadata": {},
   "outputs": [],
   "source": [
    "- use concat to merge multiple NDArrays"
   ]
  },
  {
   "cell_type": "code",
   "execution_count": 21,
   "metadata": {},
   "outputs": [
    {
     "data": {
      "text/plain": "\n[[ 0.  1.  2.  3.]\n [ 4.  5.  6.  7.]\n [ 8.  9. 10. 11.]\n [ 2.  3.  4.  5.]\n [ 6.  7.  8.  9.]\n [10. 11. 12. 13.]]\n<NDArray 6x4 @cpu(0)>"
     },
     "execution_count": 21,
     "metadata": {},
     "output_type": "execute_result"
    }
   ],
   "source": [
    "# along dim 0, vertical\n",
    "nd.concat(x, y, dim=0)"
   ]
  },
  {
   "cell_type": "code",
   "execution_count": 22,
   "metadata": {},
   "outputs": [
    {
     "data": {
      "text/plain": "\n[[ 0.  1.  2.  3.  2.  3.  4.  5.]\n [ 4.  5.  6.  7.  6.  7.  8.  9.]\n [ 8.  9. 10. 11. 10. 11. 12. 13.]]\n<NDArray 3x8 @cpu(0)>"
     },
     "execution_count": 22,
     "metadata": {},
     "output_type": "execute_result"
    }
   ],
   "source": [
    "# along dim 1, horizontal\n",
    "nd.concat(x, y, dim=1)"
   ]
  },
  {
   "cell_type": "markdown",
   "execution_count": null,
   "metadata": {},
   "outputs": [],
   "source": [
    "- use logical statement to construct binary array"
   ]
  },
  {
   "cell_type": "code",
   "execution_count": 23,
   "metadata": {},
   "outputs": [
    {
     "data": {
      "text/plain": "\n[[0. 0. 0. 0.]\n [0. 0. 0. 0.]\n [0. 0. 0. 0.]]\n<NDArray 3x4 @cpu(0)>"
     },
     "execution_count": 23,
     "metadata": {},
     "output_type": "execute_result"
    }
   ],
   "source": [
    "x == y"
   ]
  },
  {
   "cell_type": "markdown",
   "execution_count": null,
   "metadata": {},
   "outputs": [],
   "source": [
    "- mxnet uses the same broadcast mechanism as numpy"
   ]
  },
  {
   "cell_type": "code",
   "execution_count": 25,
   "metadata": {},
   "outputs": [
    {
     "data": {
      "text/plain": "(\n [[0.]\n  [1.]\n  [2.]]\n <NDArray 3x1 @cpu(0)>, \n [[0. 1.]]\n <NDArray 1x2 @cpu(0)>)"
     },
     "execution_count": 25,
     "metadata": {},
     "output_type": "execute_result"
    }
   ],
   "source": [
    "a = nd.arange(3).reshape(3,1)\n",
    "b = nd.arange(2).reshape(1,2)\n",
    "a,b"
   ]
  },
  {
   "cell_type": "code",
   "execution_count": 29,
   "metadata": {},
   "outputs": [
    {
     "name": "stdout",
     "output_type": "stream",
     "text": "\n[[0. 1.]\n [1. 2.]\n [2. 3.]]\n<NDArray 3x2 @cpu(0)>\n\n[[0. 1.]\n [1. 2.]\n [2. 3.]]\n<NDArray 3x2 @cpu(0)>\n"
    }
   ],
   "source": [
    "# a-> [[0,0], [1,1], [2,2]]\n",
    "# b->[[0,1], [0,1], [0,1]]\n",
    "print(a+b)\n",
    "# equivalent to:\n",
    "new_a = nd.array([[0,0], [1,1], [2,2]])\n",
    "new_b = nd.array([[0,1], [0,1], [0,1]])\n",
    "print(new_a+new_b)"
   ]
  },
  {
   "cell_type": "markdown",
   "execution_count": null,
   "metadata": {},
   "outputs": [],
   "source": [
    "- use indexing and slicing to select the value from a NDArray"
   ]
  },
  {
   "cell_type": "code",
   "execution_count": 30,
   "metadata": {},
   "outputs": [
    {
     "data": {
      "text/plain": "\n[[ 4.  5.  6.  7.]\n [ 8.  9. 10. 11.]]\n<NDArray 2x4 @cpu(0)>"
     },
     "execution_count": 30,
     "metadata": {},
     "output_type": "execute_result"
    }
   ],
   "source": [
    "# row 0 and row 1\n",
    "x[1:3]"
   ]
  },
  {
   "cell_type": "code",
   "execution_count": 32,
   "metadata": {},
   "outputs": [
    {
     "data": {
      "text/plain": "\n[[   0.    1.    2.    3.]\n [   4.    5. 1000.    7.]\n [   8.    9.   10.   11.]]\n<NDArray 3x4 @cpu(0)>"
     },
     "execution_count": 32,
     "metadata": {},
     "output_type": "execute_result"
    }
   ],
   "source": [
    "# row 1 column 2\n",
    "x[1,2] = 1000\n",
    "x"
   ]
  },
  {
   "cell_type": "markdown",
   "execution_count": null,
   "metadata": {},
   "outputs": [],
   "source": [
    "- assign multiple values"
   ]
  },
  {
   "cell_type": "code",
   "execution_count": 34,
   "metadata": {},
   "outputs": [
    {
     "data": {
      "text/plain": "\n[[111. 111. 111. 111.]\n [111. 111. 111. 111.]\n [  8.   9.  10.  11.]]\n<NDArray 3x4 @cpu(0)>"
     },
     "execution_count": 34,
     "metadata": {},
     "output_type": "execute_result"
    }
   ],
   "source": [
    "x[0:2,:] = 111\n",
    "x"
   ]
  },
  {
   "cell_type": "markdown",
   "execution_count": null,
   "metadata": {},
   "outputs": [],
   "source": [
    "- in mxnet, the new memory is allocated for each operation. E.g., for y = x + y, after running, y will have a different location. That's because python first evaluates y+x, allocating new memory for the result and then redirects y to point at this new location."
   ]
  },
  {
   "cell_type": "code",
   "execution_count": 35,
   "metadata": {},
   "outputs": [
    {
     "name": "stdout",
     "output_type": "stream",
     "text": "2026218174168\n2026210519528\n"
    }
   ],
   "source": [
    "before = id(y)\n",
    "y = y + x\n",
    "id(y) == before\n",
    "print(id(y))\n",
    "print(before)"
   ]
  },
  {
   "cell_type": "markdown",
   "execution_count": null,
   "metadata": {},
   "outputs": [],
   "source": [
    "- In mxnet, using the slice notation to run in-place operation."
   ]
  },
  {
   "cell_type": "code",
   "execution_count": 36,
   "metadata": {},
   "outputs": [
    {
     "name": "stdout",
     "output_type": "stream",
     "text": "id(z): 2026218174168\nid(z): 2026218174168\n"
    }
   ],
   "source": [
    "z = y.zeros_like(y)\n",
    "print(\"id(z):\", id(z))\n",
    "z[:] = x + y\n",
    "print(\"id(z):\", id(z))"
   ]
  },
  {
   "cell_type": "markdown",
   "execution_count": null,
   "metadata": {},
   "outputs": [],
   "source": [
    "- Transformation between NDArray and NumPy doesn't share memory. "
   ]
  },
  {
   "cell_type": "code",
   "execution_count": 37,
   "metadata": {},
   "outputs": [
    {
     "name": "stdout",
     "output_type": "stream",
     "text": "<class 'numpy.ndarray'>\n<class 'mxnet.ndarray.ndarray.NDArray'>\n"
    }
   ],
   "source": [
    "import numpy as np\n",
    "a = x.asnumpy()\n",
    "print(type(a))\n",
    "b = nd.array(a)\n",
    "print(type(b))"
   ]
  }
 ]
}