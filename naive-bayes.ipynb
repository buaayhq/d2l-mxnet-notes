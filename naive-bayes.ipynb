{
 "nbformat": 4,
 "nbformat_minor": 2,
 "metadata": {
  "language_info": {
   "name": "python",
   "codemirror_mode": {
    "name": "ipython",
    "version": 3
   },
   "version": "3.6.9"
  },
  "orig_nbformat": 2,
  "file_extension": ".py",
  "mimetype": "text/x-python",
  "name": "python",
  "npconvert_exporter": "python",
  "pygments_lexer": "ipython3",
  "version": 3
 },
 "cells": [
  {
   "cell_type": "markdown",
   "metadata": {},
   "outputs": [],
   "source": [
    "## Bayes' Theorem\n",
    "Bayes' theorem is stated mathematically as the following equation:\n",
    "$$P(A|B)=\\frac{P(B|A)P(A)}{P(B)}$$\n",
    "- B is termed as evidence\n",
    "- P(A) is the priori of A(i.e., probability of event A before evidence is seen). The evidence is an attribute value of an unknown instance.\n",
    "- P(A|B) is a posteriori probability of A(i.e., probability of event after evidence is seen)\n",
    "## Dataset\n",
    "|      | OUTLOOK  | TEMPERATURE | HUMIDITY | WINDY | PLAY GOLF |\n",
    "| :--: | :------: | :---------: | :------: | :---: | --------- |\n",
    "|  0   |  Rainy   |     Hot     |   High   | False | No        |\n",
    "|  1   |  Rainy   |     Hot     |   High   | True  | No        |\n",
    "|  2   | Overcast |     Hot     |   High   | False | Yes       |\n",
    "|  3   |  Sunny   |    Mild     |   High   | False | Yes       |\n",
    "|  4   |  Sunny   |    Cool     |  Normal  | False | Yes       |\n",
    "|  5   |  Sunny   |    Cool     |  Normal  | True  | No        |\n",
    "|  6   | Overcast |    Cool     |  Normal  | True  | Yes       |\n",
    "|  7   |  Rainy   |    Mild     |   High   | False | No        |\n",
    "|  8   |  Rainy   |    Cool     |  Normal  | False | Yes       |\n",
    "|  9   |  Sunny   |    Mild     |  Normal  | False | Yes       |\n",
    "|  10  |  Rainy   |    Mild     |  Normal  | True  | Yes       |\n",
    "|  11  | Overcast |    Mild     |   High   | True  | Yes       |\n",
    "|  12  | Overcast |     Hot     |  Normal  | False | Yes       |\n",
    "|  13  |  Sunny   |    Mild     |   High   | True  | No        |\n",
    "With regards to this dataset, we can apply Bayes' theorem in the following way:\n",
    "$$P(y|X)=\\frac{P(X|y)P(y)}{P(X)}$$\n",
    "- $y$:class variable\n",
    "- $X$:feature vector\n",
    "\n",
    "\n",
    "Based on the given dataset,e.g.(refer 1st row of dataset),\n",
    "- $X$=(Rainy, Hot, High, False)\n",
    "- $y$= No\n",
    "\n",
    "## Naive assumption\n",
    "The features are all independent, therefore:\n",
    "$$P(A,B)=P(A)P(B)$$\n",
    "finally:\n",
    "$$P(y|x_1,\\cdots,x_n)=\\frac{P(x_1,\\cdots,x_n|y)P(y)}{P(x_1,\\cdots,x_n)}=\\frac{P(x_1|y)P(x_2|y)\\cdots P(x_n|y)P(y)}{P(x_1)P(x_2)\\cdots P(x_n)}$$\n",
    "=>\n",
    "$$P(y|x_1,\\cdots x_n)=\\frac{\\prod_{i=1}^n P(x_i|y)P(y)}{\\prod_{i=1}^n P(x_i)}$$\n",
    "As the denominator remains constant for a given input, we can remove that term:\n",
    "=>\n",
    "$$P(y|x_1,\\cdots x_n)\\propto \\prod_{i=1}^n P(x_i|y)P(y)$$\n",
    "=>\n",
    "$$\\hat{y}=\\operatorname*{argmax}_y \\prod_{i=1}^n P(x_i|y)P(y)$$\n",
    " - $P(y)$ is also called class probability and $P(x_i | y)$ is called conditional probability\n",
    " - We need to find $P(x_i | y_j)$ for each $x_i$ in $X$ and $y_j$ in $y$\n",
    "\n",
    "\n",
    " **outlook**\n",
    "\n",
    " \n",
    "| type     | total | yes  | no   | p(yes) | p(no) |\n",
    "| -------- | ----- | ---- | ---- | ------ | ----- |\n",
    "| Rainy    | 5     | 2    | 3    | 2/9    | 3/5   |\n",
    "| Overcast | 4     | 4    | 0    | 4/9    | 0     |\n",
    "| sunny    | 5     | 3    | 2    | 3/9    | 2/5   |\n",
    "| -        | 14    | 9    | 5    | -      | -     |\n",
    "\n",
    "\n",
    "**temperature**\n",
    "\n",
    "\n",
    "| type | total | yes  | no   | p(yes) | p(no) |\n",
    "| ---- | ----- | ---- | ---- | ------ | ----- |\n",
    "| Hot  | 4     | 2    | 2    | 2/9    | 2/5   |\n",
    "| Mild | 6     | 4    | 2    | 4/9    | 2/5   |\n",
    "| Cool | 4     | 3    | 1    | 3/9    | 1/5   |\n",
    "| -    | 14    | 9    | 5    | -      | -     |\n",
    "\n",
    "**humidity**\n",
    "\n",
    "| type   | total | yes  | no   | p(yes) | p(no) |\n",
    "| ------ | ----- | ---- | ---- | ------ | ----- |\n",
    "| High   | 7     | 3    | 4    | 3/9    | 4/5   |\n",
    "| Normal | 7     | 6    | 1    | 6/9    | 1/5   |\n",
    "| -      | 14    | 9    | 5    | -      | -     |\n",
    "\n",
    "**windy**\n",
    "\n",
    "| type  | total | yes  | no   | p(yes) | p(no) |\n",
    "| ----- | ----- | ---- | ---- | ------ | ----- |\n",
    "| False | 8     | 6    | 2    | 6/9    | 2/5   |\n",
    "| True  | 6     | 3    | 3    | 3/9    | 3/5   |\n",
    "| -     | 14    | 9    | 5    | -      | -     |\n",
    "\n",
    "=>\n",
    "- $P(y=yes)=9/14,p(y=no)=5/14$\n",
    "- $P(outlook=Rainy|y=yes)=2/9....$\n",
    "\n",
    "\n",
    "Let us test it on a new set of features (let us call it today):\n",
    "```\n",
    "today = (Sunny, Hot, Normal, False)\n",
    "```\n",
    "So, probability of playing golf is given by:\n",
    "$$P(yes|today)\\propto{P(outlook=sunny|y=yes)P(temperature=Hot|y=yes)P(humidity=Normal|y=yes)P(windy=False|y=yes)P(y=yes)}$$\n",
    "=>\n",
    "$$P(yes|today)\\propto \\frac{3}{9}\\frac{2}{9}\\frac{6}{9}\\frac{6}{9}\\frac{9}{14}=0.021$$\n",
    "Similarly,\n",
    "$$P(no|today)\\propto \\frac{2}{5}\\frac{2}{5}\\frac{1}{5}\\frac{2}{5}\\frac{5}{14}=0.0046$$\n",
    "Since,\n",
    "$$P(yes|today)+P(no|today)=1$$\n",
    "=>\n",
    "$$P(yes|today)=0.82,>\\ P(no|today)=0.18$$\n",
    "Therefore, prediction that golf would be played is \"yes\"."
   ]
  },
  {
   "cell_type": "code",
   "execution_count": 1,
   "metadata": {},
   "outputs": [],
   "source": [
    "import mxnet as mx\n",
    "from mxnet import nd\n",
    "import numpy as np\n",
    "from matplotlib import pyplot as plt\n",
    "from IPython import display\n",
    "%matplotlib inline\n",
    "display.set_matplotlib_formats(\"svg\")"
   ]
  },
  {
   "cell_type": "code",
   "execution_count": 2,
   "metadata": {},
   "outputs": [],
   "source": [
    "# import mnist data using gluon\n",
    "# define a transform that changes the image to a binary image\n",
    "def transform(data, label):\n",
    "    return (nd.floor(data/128).astype(np.float32), label.astype(np.float32))"
   ]
  },
  {
   "cell_type": "code",
   "execution_count": 3,
   "metadata": {},
   "outputs": [],
   "source": [
    "mnistTrain = mx.gluon.data.vision.MNIST(root=\"./data\", train=True, transform=transform)\n",
    "mnistTest = mx.gluon.data.vision.MNIST(root=\"./data\", train=False, transform=transform)"
   ]
  },
  {
   "cell_type": "code",
   "execution_count": 5,
   "metadata": {},
   "outputs": [
    {
     "name": "stdout",
     "output_type": "stream",
     "text": "(28, 28, 1)\n5.0\n"
    }
   ],
   "source": [
    "image0, label0 = mnistTrain[0]\n",
    "print(image0.shape)\n",
    "print(label0)"
   ]
  },
  {
   "cell_type": "code",
   "execution_count": 13,
   "metadata": {},
   "outputs": [
    {
     "data": {
      "text/plain": "<matplotlib.image.AxesImage at 0x2051702bf60>"
     },
     "execution_count": 13,
     "metadata": {},
     "output_type": "execute_result"
    },
    {
     "data": {
      "image/svg+xml": "<?xml version=\"1.0\" encoding=\"utf-8\" standalone=\"no\"?>\r\n<!DOCTYPE svg PUBLIC \"-//W3C//DTD SVG 1.1//EN\"\r\n  \"http://www.w3.org/Graphics/SVG/1.1/DTD/svg11.dtd\">\r\n<!-- Created with matplotlib (https://matplotlib.org/) -->\r\n<svg height=\"141.655915pt\" version=\"1.1\" viewBox=\"0 0 142.845 141.655915\" width=\"142.845pt\" xmlns=\"http://www.w3.org/2000/svg\" xmlns:xlink=\"http://www.w3.org/1999/xlink\">\r\n <defs>\r\n  <style type=\"text/css\">\r\n*{stroke-linecap:butt;stroke-linejoin:round;}\r\n  </style>\r\n </defs>\r\n <g id=\"figure_1\">\r\n  <g id=\"patch_1\">\r\n   <path d=\"M 0 141.655915 \r\nL 142.845 141.655915 \r\nL 142.845 0 \r\nL 0 0 \r\nz\r\n\" style=\"fill:none;\"/>\r\n  </g>\r\n  <g id=\"axes_1\">\r\n   <g id=\"patch_2\">\r\n    <path d=\"M 26.925 117.77779 \r\nL 135.645 117.77779 \r\nL 135.645 9.05779 \r\nL 26.925 9.05779 \r\nz\r\n\" style=\"fill:#ffffff;\"/>\r\n   </g>\r\n   <g clip-path=\"url(#pb6186dbf7f)\">\r\n    <image height=\"109\" id=\"image57a48aa92a\" transform=\"scale(1 -1)translate(0 -109)\" width=\"109\" x=\"26.925\" xlink:href=\"data:image/png;base64,\r\niVBORw0KGgoAAAANSUhEUgAAAG0AAABtCAYAAACr+O9WAAAABHNCSVQICAgIfAhkiAAAAb1JREFUeJzt3MFugkAUQFFo+v+/bBfdGNI4oSLOwXv21CY3j5dB4rosy20J5evd/0D2KxqoaKCigYoGKhqoaKCigYoGKhqoaKDvZ//A7Xbeo8t1XU/7rJk1aaCigYoGWpcDv087c7/95VN2XpMGKhro0NvjSMeDYzRpoKKBigY6daft9codKO+8Jg1UNFDRQFPvtJFP3XlNGqhooKKB6J229SnPNps0UNFARQM9/QrdTB7tmXe/CnGkJg1UNFDRQJfaaY+MzlXSzmvSQEUDFQ1UNFDRQEUDFQ30Mee0Z89hM70z0qSBigYqGuiyO23vDptpZ400aaCigYoGutRO27PHpB221aSBigaib4+Pbofy7W+kSQMVDVQ0ELXTpNfcXqlJAxUNVDQQtdNGrnw2u9ekgYoGKhpoqp22PYft3VH31z9z7X+uP1OTBioaqGigt/7M0szPEttpOVTRQEUDFQ1UNFDRQEUDUT+HO/O5buTIc1+TBioaqGigqb5PG3nl88DRvtx+9jv3a5MGKhqoaCDqnJZfTRqoaKCigYoGKhqoaKCigYoGKhqoaKCigYoGKhqoaKCigYoGKhqoaKAfK09F38/FRvIAAAAASUVORK5CYII=\" y=\"-8.77779\"/>\r\n   </g>\r\n   <g id=\"matplotlib.axis_1\">\r\n    <g id=\"xtick_1\">\r\n     <g id=\"line2d_1\">\r\n      <defs>\r\n       <path d=\"M 0 0 \r\nL 0 3.5 \r\n\" id=\"m7f7b862014\" style=\"stroke:#000000;stroke-width:0.8;\"/>\r\n      </defs>\r\n      <g>\r\n       <use style=\"stroke:#000000;stroke-width:0.8;\" x=\"28.866429\" xlink:href=\"#m7f7b862014\" y=\"117.77779\"/>\r\n      </g>\r\n     </g>\r\n     <g id=\"text_1\">\r\n      <!-- 0 -->\r\n      <defs>\r\n       <path d=\"M 31.78125 66.40625 \r\nQ 24.171875 66.40625 20.328125 58.90625 \r\nQ 16.5 51.421875 16.5 36.375 \r\nQ 16.5 21.390625 20.328125 13.890625 \r\nQ 24.171875 6.390625 31.78125 6.390625 \r\nQ 39.453125 6.390625 43.28125 13.890625 \r\nQ 47.125 21.390625 47.125 36.375 \r\nQ 47.125 51.421875 43.28125 58.90625 \r\nQ 39.453125 66.40625 31.78125 66.40625 \r\nz\r\nM 31.78125 74.21875 \r\nQ 44.046875 74.21875 50.515625 64.515625 \r\nQ 56.984375 54.828125 56.984375 36.375 \r\nQ 56.984375 17.96875 50.515625 8.265625 \r\nQ 44.046875 -1.421875 31.78125 -1.421875 \r\nQ 19.53125 -1.421875 13.0625 8.265625 \r\nQ 6.59375 17.96875 6.59375 36.375 \r\nQ 6.59375 54.828125 13.0625 64.515625 \r\nQ 19.53125 74.21875 31.78125 74.21875 \r\nz\r\n\" id=\"DejaVuSans-48\"/>\r\n      </defs>\r\n      <g transform=\"translate(25.685179 132.376228)scale(0.1 -0.1)\">\r\n       <use xlink:href=\"#DejaVuSans-48\"/>\r\n      </g>\r\n     </g>\r\n    </g>\r\n    <g id=\"xtick_2\">\r\n     <g id=\"line2d_2\">\r\n      <g>\r\n       <use style=\"stroke:#000000;stroke-width:0.8;\" x=\"67.695\" xlink:href=\"#m7f7b862014\" y=\"117.77779\"/>\r\n      </g>\r\n     </g>\r\n     <g id=\"text_2\">\r\n      <!-- 10 -->\r\n      <defs>\r\n       <path d=\"M 12.40625 8.296875 \r\nL 28.515625 8.296875 \r\nL 28.515625 63.921875 \r\nL 10.984375 60.40625 \r\nL 10.984375 69.390625 \r\nL 28.421875 72.90625 \r\nL 38.28125 72.90625 \r\nL 38.28125 8.296875 \r\nL 54.390625 8.296875 \r\nL 54.390625 0 \r\nL 12.40625 0 \r\nz\r\n\" id=\"DejaVuSans-49\"/>\r\n      </defs>\r\n      <g transform=\"translate(61.3325 132.376228)scale(0.1 -0.1)\">\r\n       <use xlink:href=\"#DejaVuSans-49\"/>\r\n       <use x=\"63.623047\" xlink:href=\"#DejaVuSans-48\"/>\r\n      </g>\r\n     </g>\r\n    </g>\r\n    <g id=\"xtick_3\">\r\n     <g id=\"line2d_3\">\r\n      <g>\r\n       <use style=\"stroke:#000000;stroke-width:0.8;\" x=\"106.523571\" xlink:href=\"#m7f7b862014\" y=\"117.77779\"/>\r\n      </g>\r\n     </g>\r\n     <g id=\"text_3\">\r\n      <!-- 20 -->\r\n      <defs>\r\n       <path d=\"M 19.1875 8.296875 \r\nL 53.609375 8.296875 \r\nL 53.609375 0 \r\nL 7.328125 0 \r\nL 7.328125 8.296875 \r\nQ 12.9375 14.109375 22.625 23.890625 \r\nQ 32.328125 33.6875 34.8125 36.53125 \r\nQ 39.546875 41.84375 41.421875 45.53125 \r\nQ 43.3125 49.21875 43.3125 52.78125 \r\nQ 43.3125 58.59375 39.234375 62.25 \r\nQ 35.15625 65.921875 28.609375 65.921875 \r\nQ 23.96875 65.921875 18.8125 64.3125 \r\nQ 13.671875 62.703125 7.8125 59.421875 \r\nL 7.8125 69.390625 \r\nQ 13.765625 71.78125 18.9375 73 \r\nQ 24.125 74.21875 28.421875 74.21875 \r\nQ 39.75 74.21875 46.484375 68.546875 \r\nQ 53.21875 62.890625 53.21875 53.421875 \r\nQ 53.21875 48.921875 51.53125 44.890625 \r\nQ 49.859375 40.875 45.40625 35.40625 \r\nQ 44.1875 33.984375 37.640625 27.21875 \r\nQ 31.109375 20.453125 19.1875 8.296875 \r\nz\r\n\" id=\"DejaVuSans-50\"/>\r\n      </defs>\r\n      <g transform=\"translate(100.161071 132.376228)scale(0.1 -0.1)\">\r\n       <use xlink:href=\"#DejaVuSans-50\"/>\r\n       <use x=\"63.623047\" xlink:href=\"#DejaVuSans-48\"/>\r\n      </g>\r\n     </g>\r\n    </g>\r\n   </g>\r\n   <g id=\"matplotlib.axis_2\">\r\n    <g id=\"ytick_1\">\r\n     <g id=\"line2d_4\">\r\n      <defs>\r\n       <path d=\"M 0 0 \r\nL -3.5 0 \r\n\" id=\"m23fabb1be5\" style=\"stroke:#000000;stroke-width:0.8;\"/>\r\n      </defs>\r\n      <g>\r\n       <use style=\"stroke:#000000;stroke-width:0.8;\" x=\"26.925\" xlink:href=\"#m23fabb1be5\" y=\"10.999219\"/>\r\n      </g>\r\n     </g>\r\n     <g id=\"text_4\">\r\n      <!-- 0 -->\r\n      <g transform=\"translate(13.5625 14.798437)scale(0.1 -0.1)\">\r\n       <use xlink:href=\"#DejaVuSans-48\"/>\r\n      </g>\r\n     </g>\r\n    </g>\r\n    <g id=\"ytick_2\">\r\n     <g id=\"line2d_5\">\r\n      <g>\r\n       <use style=\"stroke:#000000;stroke-width:0.8;\" x=\"26.925\" xlink:href=\"#m23fabb1be5\" y=\"49.82779\"/>\r\n      </g>\r\n     </g>\r\n     <g id=\"text_5\">\r\n      <!-- 10 -->\r\n      <g transform=\"translate(7.2 53.627009)scale(0.1 -0.1)\">\r\n       <use xlink:href=\"#DejaVuSans-49\"/>\r\n       <use x=\"63.623047\" xlink:href=\"#DejaVuSans-48\"/>\r\n      </g>\r\n     </g>\r\n    </g>\r\n    <g id=\"ytick_3\">\r\n     <g id=\"line2d_6\">\r\n      <g>\r\n       <use style=\"stroke:#000000;stroke-width:0.8;\" x=\"26.925\" xlink:href=\"#m23fabb1be5\" y=\"88.656362\"/>\r\n      </g>\r\n     </g>\r\n     <g id=\"text_6\">\r\n      <!-- 20 -->\r\n      <g transform=\"translate(7.2 92.45558)scale(0.1 -0.1)\">\r\n       <use xlink:href=\"#DejaVuSans-50\"/>\r\n       <use x=\"63.623047\" xlink:href=\"#DejaVuSans-48\"/>\r\n      </g>\r\n     </g>\r\n    </g>\r\n   </g>\r\n   <g id=\"patch_3\">\r\n    <path d=\"M 26.925 117.77779 \r\nL 26.925 9.05779 \r\n\" style=\"fill:none;stroke:#000000;stroke-linecap:square;stroke-linejoin:miter;stroke-width:0.8;\"/>\r\n   </g>\r\n   <g id=\"patch_4\">\r\n    <path d=\"M 135.645 117.77779 \r\nL 135.645 9.05779 \r\n\" style=\"fill:none;stroke:#000000;stroke-linecap:square;stroke-linejoin:miter;stroke-width:0.8;\"/>\r\n   </g>\r\n   <g id=\"patch_5\">\r\n    <path d=\"M 26.925 117.77779 \r\nL 135.645 117.77779 \r\n\" style=\"fill:none;stroke:#000000;stroke-linecap:square;stroke-linejoin:miter;stroke-width:0.8;\"/>\r\n   </g>\r\n   <g id=\"patch_6\">\r\n    <path d=\"M 26.925 9.05779 \r\nL 135.645 9.05779 \r\n\" style=\"fill:none;stroke:#000000;stroke-linecap:square;stroke-linejoin:miter;stroke-width:0.8;\"/>\r\n   </g>\r\n  </g>\r\n </g>\r\n <defs>\r\n  <clipPath id=\"pb6186dbf7f\">\r\n   <rect height=\"108.72\" width=\"108.72\" x=\"26.925\" y=\"9.05779\"/>\r\n  </clipPath>\r\n </defs>\r\n</svg>\r\n",
      "text/plain": "<Figure size 144x144 with 1 Axes>"
     },
     "metadata": {
      "needs_background": "light"
     },
     "output_type": "display_data"
    }
   ],
   "source": [
    "plt.figure(figsize=(2,2))\n",
    "plt.imshow(image0.squeeze().asnumpy(), cmap=\"gray\")"
   ]
  },
  {
   "cell_type": "code",
   "execution_count": 14,
   "metadata": {},
   "outputs": [
    {
     "data": {
      "text/plain": "(20, 28, 28, 1)"
     },
     "execution_count": 14,
     "metadata": {},
     "output_type": "execute_result"
    }
   ],
   "source": [
    "images, labels = mnistTrain[0:20]\n",
    "images.shape"
   ]
  },
  {
   "cell_type": "code",
   "execution_count": 24,
   "metadata": {},
   "outputs": [
    {
     "data": {
      "image/svg+xml": "<?xml version=\"1.0\" encoding=\"utf-8\" standalone=\"no\"?>\r\n<!DOCTYPE svg PUBLIC \"-//W3C//DTD SVG 1.1//EN\"\r\n  \"http://www.w3.org/Graphics/SVG/1.1/DTD/svg11.dtd\">\r\n<!-- Created with matplotlib (https://matplotlib.org/) -->\r\n<svg height=\"71.194977pt\" version=\"1.1\" viewBox=\"0 0 296.9 71.194977\" width=\"296.9pt\" xmlns=\"http://www.w3.org/2000/svg\" xmlns:xlink=\"http://www.w3.org/1999/xlink\">\r\n <defs>\r\n  <style type=\"text/css\">\r\n*{stroke-linecap:butt;stroke-linejoin:round;}\r\n  </style>\r\n </defs>\r\n <g id=\"figure_1\">\r\n  <g id=\"patch_1\">\r\n   <path d=\"M 0 71.194977 \r\nL 296.9 71.194977 \r\nL 296.9 0 \r\nL 0 0 \r\nz\r\n\" style=\"fill:none;\"/>\r\n  </g>\r\n  <g id=\"axes_1\">\r\n   <g id=\"patch_2\">\r\n    <path d=\"M 10.7 30.844068 \r\nL 34.344068 30.844068 \r\nL 34.344068 7.2 \r\nL 10.7 7.2 \r\nz\r\n\" style=\"fill:#ffffff;\"/>\r\n   </g>\r\n   <g clip-path=\"url(#p145cb0a238)\">\r\n    <image height=\"24\" id=\"image9c9bf25a33\" transform=\"scale(1 -1)translate(0 -24)\" width=\"24\" x=\"10.7\" xlink:href=\"data:image/png;base64,\r\niVBORw0KGgoAAAANSUhEUgAAABgAAAAYCAYAAADgdz34AAAABHNCSVQICAgIfAhkiAAAAI5JREFUSIntlcEOgCAMQ1vj///yPJkgOrZO0Ys7ktAX2gIEYJg4y0zxVwBrv2DmO0ZSBhBOBh5IhbiACJYFpTK4EhtZedgLoaYV26QWkZQzKNVUAZ1qmpnWqggkn0ARlwGqOCBYtItPCTnb+RLgjjgQXLRI/PGQK1N+7FzB7lSpFnlWmBlIjv8Q/H/y14ANIIs0MUdIBcIAAAAASUVORK5CYII=\" y=\"-6.844068\"/>\r\n   </g>\r\n   <g id=\"patch_3\">\r\n    <path d=\"M 10.7 30.844068 \r\nL 10.7 7.2 \r\n\" style=\"fill:none;stroke:#000000;stroke-linecap:square;stroke-linejoin:miter;stroke-width:0.8;\"/>\r\n   </g>\r\n   <g id=\"patch_4\">\r\n    <path d=\"M 34.344068 30.844068 \r\nL 34.344068 7.2 \r\n\" style=\"fill:none;stroke:#000000;stroke-linecap:square;stroke-linejoin:miter;stroke-width:0.8;\"/>\r\n   </g>\r\n   <g id=\"patch_5\">\r\n    <path d=\"M 10.7 30.844068 \r\nL 34.344068 30.844068 \r\n\" style=\"fill:none;stroke:#000000;stroke-linecap:square;stroke-linejoin:miter;stroke-width:0.8;\"/>\r\n   </g>\r\n   <g id=\"patch_6\">\r\n    <path d=\"M 10.7 7.2 \r\nL 34.344068 7.2 \r\n\" style=\"fill:none;stroke:#000000;stroke-linecap:square;stroke-linejoin:miter;stroke-width:0.8;\"/>\r\n   </g>\r\n  </g>\r\n  <g id=\"axes_2\">\r\n   <g id=\"patch_7\">\r\n    <path d=\"M 39.072881 30.844068 \r\nL 62.716949 30.844068 \r\nL 62.716949 7.2 \r\nL 39.072881 7.2 \r\nz\r\n\" style=\"fill:#ffffff;\"/>\r\n   </g>\r\n   <g clip-path=\"url(#p661d36036f)\">\r\n    <image height=\"24\" id=\"imagefe9f2ab020\" transform=\"scale(1 -1)translate(0 -24)\" width=\"24\" x=\"39.072881\" xlink:href=\"data:image/png;base64,\r\niVBORw0KGgoAAAANSUhEUgAAABgAAAAYCAYAAADgdz34AAAABHNCSVQICAgIfAhkiAAAAJZJREFUSIntlUsKgDAMRGfE+185rgq1JM2nrStnJQTy5CVGAhAczHWy+SeAe1YUedsjmQYQxgzG5lVQSZGITF8gDSBZ0gMEFFmNvXpLeYtaY0/V0pr2EAu0/B30ijSIC4huixUTUN2aMGBXpoDIEJcAPWQEaUBNa/lUaM9atp0Kq26eCitRNS1pRdn1Lc2gh7jq8P/0nTycEj4s4sjJ0wAAAABJRU5ErkJggg==\" y=\"-6.844068\"/>\r\n   </g>\r\n   <g id=\"patch_8\">\r\n    <path d=\"M 39.072881 30.844068 \r\nL 39.072881 7.2 \r\n\" style=\"fill:none;stroke:#000000;stroke-linecap:square;stroke-linejoin:miter;stroke-width:0.8;\"/>\r\n   </g>\r\n   <g id=\"patch_9\">\r\n    <path d=\"M 62.716949 30.844068 \r\nL 62.716949 7.2 \r\n\" style=\"fill:none;stroke:#000000;stroke-linecap:square;stroke-linejoin:miter;stroke-width:0.8;\"/>\r\n   </g>\r\n   <g id=\"patch_10\">\r\n    <path d=\"M 39.072881 30.844068 \r\nL 62.716949 30.844068 \r\n\" style=\"fill:none;stroke:#000000;stroke-linecap:square;stroke-linejoin:miter;stroke-width:0.8;\"/>\r\n   </g>\r\n   <g id=\"patch_11\">\r\n    <path d=\"M 39.072881 7.2 \r\nL 62.716949 7.2 \r\n\" style=\"fill:none;stroke:#000000;stroke-linecap:square;stroke-linejoin:miter;stroke-width:0.8;\"/>\r\n   </g>\r\n  </g>\r\n  <g id=\"axes_3\">\r\n   <g id=\"patch_12\">\r\n    <path d=\"M 67.445763 30.844068 \r\nL 91.089831 30.844068 \r\nL 91.089831 7.2 \r\nL 67.445763 7.2 \r\nz\r\n\" style=\"fill:#ffffff;\"/>\r\n   </g>\r\n   <g clip-path=\"url(#p0c8c5a4ebc)\">\r\n    <image height=\"24\" id=\"image0071ed6493\" transform=\"scale(1 -1)translate(0 -24)\" width=\"24\" x=\"67.445763\" xlink:href=\"data:image/png;base64,\r\niVBORw0KGgoAAAANSUhEUgAAABgAAAAYCAYAAADgdz34AAAABHNCSVQICAgIfAhkiAAAAHxJREFUSIntldsOgCAMQzvi//9yfTJRYAUNizOxj+Ny0nUEA0AEqkRenh9AEqTucG4HAGBmsYCRvg/Y6kJvKlSfScr1C8Abubo+CtYFqMNnyGj2JcBTDzwDWhKyAjWAO/Znssj/Dg4XnvPS27xSjYMnEHUmPAPD/ye/DdgBbZImMt2+sIIAAAAASUVORK5CYII=\" y=\"-6.844068\"/>\r\n   </g>\r\n   <g id=\"patch_13\">\r\n    <path d=\"M 67.445763 30.844068 \r\nL 67.445763 7.2 \r\n\" style=\"fill:none;stroke:#000000;stroke-linecap:square;stroke-linejoin:miter;stroke-width:0.8;\"/>\r\n   </g>\r\n   <g id=\"patch_14\">\r\n    <path d=\"M 91.089831 30.844068 \r\nL 91.089831 7.2 \r\n\" style=\"fill:none;stroke:#000000;stroke-linecap:square;stroke-linejoin:miter;stroke-width:0.8;\"/>\r\n   </g>\r\n   <g id=\"patch_15\">\r\n    <path d=\"M 67.445763 30.844068 \r\nL 91.089831 30.844068 \r\n\" style=\"fill:none;stroke:#000000;stroke-linecap:square;stroke-linejoin:miter;stroke-width:0.8;\"/>\r\n   </g>\r\n   <g id=\"patch_16\">\r\n    <path d=\"M 67.445763 7.2 \r\nL 91.089831 7.2 \r\n\" style=\"fill:none;stroke:#000000;stroke-linecap:square;stroke-linejoin:miter;stroke-width:0.8;\"/>\r\n   </g>\r\n  </g>\r\n  <g id=\"axes_4\">\r\n   <g id=\"patch_17\">\r\n    <path d=\"M 95.818644 30.844068 \r\nL 119.462712 30.844068 \r\nL 119.462712 7.2 \r\nL 95.818644 7.2 \r\nz\r\n\" style=\"fill:#ffffff;\"/>\r\n   </g>\r\n   <g clip-path=\"url(#p4d78562d45)\">\r\n    <image height=\"24\" id=\"image3aca840308\" transform=\"scale(1 -1)translate(0 -24)\" width=\"24\" x=\"95.818644\" xlink:href=\"data:image/png;base64,\r\niVBORw0KGgoAAAANSUhEUgAAABgAAAAYCAYAAADgdz34AAAABHNCSVQICAgIfAhkiAAAAGxJREFUSIntlcEJwDAMA+Xuv7P6Cpg8iixqnEc0QA6dAg4ARGOezsfPAJAE6Vucb7DitphvEBG9gBxHU1lRFSIBdk0ViNzA3aKkKEPUFvPfdE9VldVgQRRNtiIV8ssGX5DzRs5RBg/cmzwNeAGLMCAnhZuggwAAAABJRU5ErkJggg==\" y=\"-6.844068\"/>\r\n   </g>\r\n   <g id=\"patch_18\">\r\n    <path d=\"M 95.818644 30.844068 \r\nL 95.818644 7.2 \r\n\" style=\"fill:none;stroke:#000000;stroke-linecap:square;stroke-linejoin:miter;stroke-width:0.8;\"/>\r\n   </g>\r\n   <g id=\"patch_19\">\r\n    <path d=\"M 119.462712 30.844068 \r\nL 119.462712 7.2 \r\n\" style=\"fill:none;stroke:#000000;stroke-linecap:square;stroke-linejoin:miter;stroke-width:0.8;\"/>\r\n   </g>\r\n   <g id=\"patch_20\">\r\n    <path d=\"M 95.818644 30.844068 \r\nL 119.462712 30.844068 \r\n\" style=\"fill:none;stroke:#000000;stroke-linecap:square;stroke-linejoin:miter;stroke-width:0.8;\"/>\r\n   </g>\r\n   <g id=\"patch_21\">\r\n    <path d=\"M 95.818644 7.2 \r\nL 119.462712 7.2 \r\n\" style=\"fill:none;stroke:#000000;stroke-linecap:square;stroke-linejoin:miter;stroke-width:0.8;\"/>\r\n   </g>\r\n  </g>\r\n  <g id=\"axes_5\">\r\n   <g id=\"patch_22\">\r\n    <path d=\"M 124.191525 30.844068 \r\nL 147.835593 30.844068 \r\nL 147.835593 7.2 \r\nL 124.191525 7.2 \r\nz\r\n\" style=\"fill:#ffffff;\"/>\r\n   </g>\r\n   <g clip-path=\"url(#pfea022cc91)\">\r\n    <image height=\"24\" id=\"image5a581bacaf\" transform=\"scale(1 -1)translate(0 -24)\" width=\"24\" x=\"124.191525\" xlink:href=\"data:image/png;base64,\r\niVBORw0KGgoAAAANSUhEUgAAABgAAAAYCAYAAADgdz34AAAABHNCSVQICAgIfAhkiAAAAH5JREFUSIntlFEKgDAMQxPx/leuX5MyVo3BgcgC+9lYXlvaEkBgojb3Y4QWlwVQzS1AMyc5B/BUC/BxQEScZ/SmaL8ydwx73ZaIpNzzFiAPlgMqAZVZBillk7rIrT8AEMK6zoCcmbKXJEAPGRoVEHnQRgbt7pUMXP18Fy0AAByrMjEocu+S1gAAAABJRU5ErkJggg==\" y=\"-6.844068\"/>\r\n   </g>\r\n   <g id=\"patch_23\">\r\n    <path d=\"M 124.191525 30.844068 \r\nL 124.191525 7.2 \r\n\" style=\"fill:none;stroke:#000000;stroke-linecap:square;stroke-linejoin:miter;stroke-width:0.8;\"/>\r\n   </g>\r\n   <g id=\"patch_24\">\r\n    <path d=\"M 147.835593 30.844068 \r\nL 147.835593 7.2 \r\n\" style=\"fill:none;stroke:#000000;stroke-linecap:square;stroke-linejoin:miter;stroke-width:0.8;\"/>\r\n   </g>\r\n   <g id=\"patch_25\">\r\n    <path d=\"M 124.191525 30.844068 \r\nL 147.835593 30.844068 \r\n\" style=\"fill:none;stroke:#000000;stroke-linecap:square;stroke-linejoin:miter;stroke-width:0.8;\"/>\r\n   </g>\r\n   <g id=\"patch_26\">\r\n    <path d=\"M 124.191525 7.2 \r\nL 147.835593 7.2 \r\n\" style=\"fill:none;stroke:#000000;stroke-linecap:square;stroke-linejoin:miter;stroke-width:0.8;\"/>\r\n   </g>\r\n  </g>\r\n  <g id=\"axes_6\">\r\n   <g id=\"patch_27\">\r\n    <path d=\"M 152.564407 30.844068 \r\nL 176.208475 30.844068 \r\nL 176.208475 7.2 \r\nL 152.564407 7.2 \r\nz\r\n\" style=\"fill:#ffffff;\"/>\r\n   </g>\r\n   <g clip-path=\"url(#p33052d9465)\">\r\n    <image height=\"24\" id=\"image8ca779c4a0\" transform=\"scale(1 -1)translate(0 -24)\" width=\"24\" x=\"152.564407\" xlink:href=\"data:image/png;base64,\r\niVBORw0KGgoAAAANSUhEUgAAABgAAAAYCAYAAADgdz34AAAABHNCSVQICAgIfAhkiAAAAIdJREFUSIntlcEOgCAMQ1vj///yPJnIGFimHCTuRgJ96zaAAAwTY5spvjjA7J3WEK7JkTDJNEAqkZmlHVWAa7Yki/UdJEqkKpEXagF64CLJCOBhvgc9QR+3gEhQFQfEJj+ZIslBK05nvQS+/1TsyqaRqfGRcjByq9NTpEJkB/7ZkM/h/zKXBxx/sjoi4N+NRgAAAABJRU5ErkJggg==\" y=\"-6.844068\"/>\r\n   </g>\r\n   <g id=\"patch_28\">\r\n    <path d=\"M 152.564407 30.844068 \r\nL 152.564407 7.2 \r\n\" style=\"fill:none;stroke:#000000;stroke-linecap:square;stroke-linejoin:miter;stroke-width:0.8;\"/>\r\n   </g>\r\n   <g id=\"patch_29\">\r\n    <path d=\"M 176.208475 30.844068 \r\nL 176.208475 7.2 \r\n\" style=\"fill:none;stroke:#000000;stroke-linecap:square;stroke-linejoin:miter;stroke-width:0.8;\"/>\r\n   </g>\r\n   <g id=\"patch_30\">\r\n    <path d=\"M 152.564407 30.844068 \r\nL 176.208475 30.844068 \r\n\" style=\"fill:none;stroke:#000000;stroke-linecap:square;stroke-linejoin:miter;stroke-width:0.8;\"/>\r\n   </g>\r\n   <g id=\"patch_31\">\r\n    <path d=\"M 152.564407 7.2 \r\nL 176.208475 7.2 \r\n\" style=\"fill:none;stroke:#000000;stroke-linecap:square;stroke-linejoin:miter;stroke-width:0.8;\"/>\r\n   </g>\r\n  </g>\r\n  <g id=\"axes_7\">\r\n   <g id=\"patch_32\">\r\n    <path d=\"M 180.937288 30.844068 \r\nL 204.581356 30.844068 \r\nL 204.581356 7.2 \r\nL 180.937288 7.2 \r\nz\r\n\" style=\"fill:#ffffff;\"/>\r\n   </g>\r\n   <g clip-path=\"url(#p60ef942a73)\">\r\n    <image height=\"24\" id=\"imagefb2fdd1bdb\" transform=\"scale(1 -1)translate(0 -24)\" width=\"24\" x=\"180.937288\" xlink:href=\"data:image/png;base64,\r\niVBORw0KGgoAAAANSUhEUgAAABgAAAAYCAYAAADgdz34AAAABHNCSVQICAgIfAhkiAAAAFFJREFUSInt1cENACAIQ9HW/XeuV28WIpEDfwCfookEIBS2KhfvC0iC5E223wncnaeBaL2A6HjCQKY0QLIWcBvgHXA+UfeCQ0C2Af4DxHz6lzafKhEk29eaIAAAAABJRU5ErkJggg==\" y=\"-6.844068\"/>\r\n   </g>\r\n   <g id=\"patch_33\">\r\n    <path d=\"M 180.937288 30.844068 \r\nL 180.937288 7.2 \r\n\" style=\"fill:none;stroke:#000000;stroke-linecap:square;stroke-linejoin:miter;stroke-width:0.8;\"/>\r\n   </g>\r\n   <g id=\"patch_34\">\r\n    <path d=\"M 204.581356 30.844068 \r\nL 204.581356 7.2 \r\n\" style=\"fill:none;stroke:#000000;stroke-linecap:square;stroke-linejoin:miter;stroke-width:0.8;\"/>\r\n   </g>\r\n   <g id=\"patch_35\">\r\n    <path d=\"M 180.937288 30.844068 \r\nL 204.581356 30.844068 \r\n\" style=\"fill:none;stroke:#000000;stroke-linecap:square;stroke-linejoin:miter;stroke-width:0.8;\"/>\r\n   </g>\r\n   <g id=\"patch_36\">\r\n    <path d=\"M 180.937288 7.2 \r\nL 204.581356 7.2 \r\n\" style=\"fill:none;stroke:#000000;stroke-linecap:square;stroke-linejoin:miter;stroke-width:0.8;\"/>\r\n   </g>\r\n  </g>\r\n  <g id=\"axes_8\">\r\n   <g id=\"patch_37\">\r\n    <path d=\"M 209.310169 30.844068 \r\nL 232.954237 30.844068 \r\nL 232.954237 7.2 \r\nL 209.310169 7.2 \r\nz\r\n\" style=\"fill:#ffffff;\"/>\r\n   </g>\r\n   <g clip-path=\"url(#p570a283a0e)\">\r\n    <image height=\"24\" id=\"image1b646fd97b\" transform=\"scale(1 -1)translate(0 -24)\" width=\"24\" x=\"209.310169\" xlink:href=\"data:image/png;base64,\r\niVBORw0KGgoAAAANSUhEUgAAABgAAAAYCAYAAADgdz34AAAABHNCSVQICAgIfAhkiAAAAIhJREFUSInNVEEOwCAIa5f9/8vutGxxIJUEXY8mUFqKBNBQiKOy+RKC03psbewaSZmA6HYQNZ8lKrfoowB4VHgTvlVGKkwCBdEQN9IWqYtOE6hhMGOaaeRh/yXPHJVZj0SKLNu8QVIWkaxPUQ8vDGGKRsUKQgXlMV2eIk+RN0j6s1Ox/5J/T3ABcjorKbAvYlIAAAAASUVORK5CYII=\" y=\"-6.844068\"/>\r\n   </g>\r\n   <g id=\"patch_38\">\r\n    <path d=\"M 209.310169 30.844068 \r\nL 209.310169 7.2 \r\n\" style=\"fill:none;stroke:#000000;stroke-linecap:square;stroke-linejoin:miter;stroke-width:0.8;\"/>\r\n   </g>\r\n   <g id=\"patch_39\">\r\n    <path d=\"M 232.954237 30.844068 \r\nL 232.954237 7.2 \r\n\" style=\"fill:none;stroke:#000000;stroke-linecap:square;stroke-linejoin:miter;stroke-width:0.8;\"/>\r\n   </g>\r\n   <g id=\"patch_40\">\r\n    <path d=\"M 209.310169 30.844068 \r\nL 232.954237 30.844068 \r\n\" style=\"fill:none;stroke:#000000;stroke-linecap:square;stroke-linejoin:miter;stroke-width:0.8;\"/>\r\n   </g>\r\n   <g id=\"patch_41\">\r\n    <path d=\"M 209.310169 7.2 \r\nL 232.954237 7.2 \r\n\" style=\"fill:none;stroke:#000000;stroke-linecap:square;stroke-linejoin:miter;stroke-width:0.8;\"/>\r\n   </g>\r\n  </g>\r\n  <g id=\"axes_9\">\r\n   <g id=\"patch_42\">\r\n    <path d=\"M 237.683051 30.844068 \r\nL 261.327119 30.844068 \r\nL 261.327119 7.2 \r\nL 237.683051 7.2 \r\nz\r\n\" style=\"fill:#ffffff;\"/>\r\n   </g>\r\n   <g clip-path=\"url(#pe0892bb610)\">\r\n    <image height=\"24\" id=\"image272372df0a\" transform=\"scale(1 -1)translate(0 -24)\" width=\"24\" x=\"237.683051\" xlink:href=\"data:image/png;base64,\r\niVBORw0KGgoAAAANSUhEUgAAABgAAAAYCAYAAADgdz34AAAABHNCSVQICAgIfAhkiAAAAFFJREFUSInt1cEKACAIA9Ct///ndeuswkjK3e2hCRKAYMxyPt4TkAQpPtV+HbwDRP+hDJD0AtGkgMx6loBKBvAA0RUtA5l8BmRmf2owN/k2sAHLSg4qChR4ZgAAAABJRU5ErkJggg==\" y=\"-6.844068\"/>\r\n   </g>\r\n   <g id=\"patch_43\">\r\n    <path d=\"M 237.683051 30.844068 \r\nL 237.683051 7.2 \r\n\" style=\"fill:none;stroke:#000000;stroke-linecap:square;stroke-linejoin:miter;stroke-width:0.8;\"/>\r\n   </g>\r\n   <g id=\"patch_44\">\r\n    <path d=\"M 261.327119 30.844068 \r\nL 261.327119 7.2 \r\n\" style=\"fill:none;stroke:#000000;stroke-linecap:square;stroke-linejoin:miter;stroke-width:0.8;\"/>\r\n   </g>\r\n   <g id=\"patch_45\">\r\n    <path d=\"M 237.683051 30.844068 \r\nL 261.327119 30.844068 \r\n\" style=\"fill:none;stroke:#000000;stroke-linecap:square;stroke-linejoin:miter;stroke-width:0.8;\"/>\r\n   </g>\r\n   <g id=\"patch_46\">\r\n    <path d=\"M 237.683051 7.2 \r\nL 261.327119 7.2 \r\n\" style=\"fill:none;stroke:#000000;stroke-linecap:square;stroke-linejoin:miter;stroke-width:0.8;\"/>\r\n   </g>\r\n  </g>\r\n  <g id=\"axes_10\">\r\n   <g id=\"patch_47\">\r\n    <path d=\"M 266.055932 30.844068 \r\nL 289.7 30.844068 \r\nL 289.7 7.2 \r\nL 266.055932 7.2 \r\nz\r\n\" style=\"fill:#ffffff;\"/>\r\n   </g>\r\n   <g clip-path=\"url(#p5587cdf7e9)\">\r\n    <image height=\"24\" id=\"image6c8f5f8464\" transform=\"scale(1 -1)translate(0 -24)\" width=\"24\" x=\"266.055932\" xlink:href=\"data:image/png;base64,\r\niVBORw0KGgoAAAANSUhEUgAAABgAAAAYCAYAAADgdz34AAAABHNCSVQICAgIfAhkiAAAAIlJREFUSIntlUsOACEIQ+nc/87MykSNTPlo4mJYsuiDkipEROVgPSfF7wGo5l10b5CFhCzKQFwAAGHhEKCv6BZuQHYLiBG0flIA5uQMbAJmSEacAmZIL9j6DEJvYAl4b1J+KpiNW4L2BSkFzWNTOQetb20RsohNvILc8R+wWuVjK2CGDH35P31SL6fmMipJSjd6AAAAAElFTkSuQmCC\" y=\"-6.844068\"/>\r\n   </g>\r\n   <g id=\"patch_48\">\r\n    <path d=\"M 266.055932 30.844068 \r\nL 266.055932 7.2 \r\n\" style=\"fill:none;stroke:#000000;stroke-linecap:square;stroke-linejoin:miter;stroke-width:0.8;\"/>\r\n   </g>\r\n   <g id=\"patch_49\">\r\n    <path d=\"M 289.7 30.844068 \r\nL 289.7 7.2 \r\n\" style=\"fill:none;stroke:#000000;stroke-linecap:square;stroke-linejoin:miter;stroke-width:0.8;\"/>\r\n   </g>\r\n   <g id=\"patch_50\">\r\n    <path d=\"M 266.055932 30.844068 \r\nL 289.7 30.844068 \r\n\" style=\"fill:none;stroke:#000000;stroke-linecap:square;stroke-linejoin:miter;stroke-width:0.8;\"/>\r\n   </g>\r\n   <g id=\"patch_51\">\r\n    <path d=\"M 266.055932 7.2 \r\nL 289.7 7.2 \r\n\" style=\"fill:none;stroke:#000000;stroke-linecap:square;stroke-linejoin:miter;stroke-width:0.8;\"/>\r\n   </g>\r\n  </g>\r\n  <g id=\"axes_11\">\r\n   <g id=\"patch_52\">\r\n    <path d=\"M 10.7 60.494977 \r\nL 34.344068 60.494977 \r\nL 34.344068 36.850909 \r\nL 10.7 36.850909 \r\nz\r\n\" style=\"fill:#ffffff;\"/>\r\n   </g>\r\n   <g clip-path=\"url(#p3094669f70)\">\r\n    <image height=\"24\" id=\"imagee08168f9fc\" transform=\"scale(1 -1)translate(0 -24)\" width=\"24\" x=\"10.7\" xlink:href=\"data:image/png;base64,\r\niVBORw0KGgoAAAANSUhEUgAAABgAAAAYCAYAAADgdz34AAAABHNCSVQICAgIfAhkiAAAAItJREFUSInNlVEOgDAMQsF4/yvPrya6WIXOmfFpHM9SVAJomKhtpvkvgF25qbVriiRlQDpBmPbm2TUb8GakQm4jOh/u43CeHkgmCNO7rJ38U0DFyAY8KeBKXGu8B4C/3JA0QdVcBmRSiiABSJZbtc7XdOqSR6BDLfpsySMijH9yTOI0ygJUtE5NqzoAC78wKM/iGE0AAAAASUVORK5CYII=\" y=\"-36.494977\"/>\r\n   </g>\r\n   <g id=\"patch_53\">\r\n    <path d=\"M 10.7 60.494977 \r\nL 10.7 36.850909 \r\n\" style=\"fill:none;stroke:#000000;stroke-linecap:square;stroke-linejoin:miter;stroke-width:0.8;\"/>\r\n   </g>\r\n   <g id=\"patch_54\">\r\n    <path d=\"M 34.344068 60.494977 \r\nL 34.344068 36.850909 \r\n\" style=\"fill:none;stroke:#000000;stroke-linecap:square;stroke-linejoin:miter;stroke-width:0.8;\"/>\r\n   </g>\r\n   <g id=\"patch_55\">\r\n    <path d=\"M 10.7 60.494977 \r\nL 34.344068 60.494977 \r\n\" style=\"fill:none;stroke:#000000;stroke-linecap:square;stroke-linejoin:miter;stroke-width:0.8;\"/>\r\n   </g>\r\n   <g id=\"patch_56\">\r\n    <path d=\"M 10.7 36.850909 \r\nL 34.344068 36.850909 \r\n\" style=\"fill:none;stroke:#000000;stroke-linecap:square;stroke-linejoin:miter;stroke-width:0.8;\"/>\r\n   </g>\r\n  </g>\r\n  <g id=\"axes_12\">\r\n   <g id=\"patch_57\">\r\n    <path d=\"M 39.072881 60.494977 \r\nL 62.716949 60.494977 \r\nL 62.716949 36.850909 \r\nL 39.072881 36.850909 \r\nz\r\n\" style=\"fill:#ffffff;\"/>\r\n   </g>\r\n   <g clip-path=\"url(#p6e1d9e8007)\">\r\n    <image height=\"24\" id=\"imagec1f75ce5bc\" transform=\"scale(1 -1)translate(0 -24)\" width=\"24\" x=\"39.072881\" xlink:href=\"data:image/png;base64,\r\niVBORw0KGgoAAAANSUhEUgAAABgAAAAYCAYAAADgdz34AAAABHNCSVQICAgIfAhkiAAAAHlJREFUSIntlUsOwCAIRIem978yrmrUAALGpAtmqck8vkoAGBf13DQvwD8Ar3XJPA8YEYUBagaruXa2E0HYg89ojHg0j2QilihTCk2uJmejdwOy5mFApskuwElPxCmyFO1HGCCBJsMFmgZ4QeZT4ZG2jP0e9aMV4FQNNHsnK+lgBzAAAAAASUVORK5CYII=\" y=\"-36.494977\"/>\r\n   </g>\r\n   <g id=\"patch_58\">\r\n    <path d=\"M 39.072881 60.494977 \r\nL 39.072881 36.850909 \r\n\" style=\"fill:none;stroke:#000000;stroke-linecap:square;stroke-linejoin:miter;stroke-width:0.8;\"/>\r\n   </g>\r\n   <g id=\"patch_59\">\r\n    <path d=\"M 62.716949 60.494977 \r\nL 62.716949 36.850909 \r\n\" style=\"fill:none;stroke:#000000;stroke-linecap:square;stroke-linejoin:miter;stroke-width:0.8;\"/>\r\n   </g>\r\n   <g id=\"patch_60\">\r\n    <path d=\"M 39.072881 60.494977 \r\nL 62.716949 60.494977 \r\n\" style=\"fill:none;stroke:#000000;stroke-linecap:square;stroke-linejoin:miter;stroke-width:0.8;\"/>\r\n   </g>\r\n   <g id=\"patch_61\">\r\n    <path d=\"M 39.072881 36.850909 \r\nL 62.716949 36.850909 \r\n\" style=\"fill:none;stroke:#000000;stroke-linecap:square;stroke-linejoin:miter;stroke-width:0.8;\"/>\r\n   </g>\r\n  </g>\r\n  <g id=\"axes_13\">\r\n   <g id=\"patch_62\">\r\n    <path d=\"M 67.445763 60.494977 \r\nL 91.089831 60.494977 \r\nL 91.089831 36.850909 \r\nL 67.445763 36.850909 \r\nz\r\n\" style=\"fill:#ffffff;\"/>\r\n   </g>\r\n   <g clip-path=\"url(#p0b7490f689)\">\r\n    <image height=\"24\" id=\"image1210238baf\" transform=\"scale(1 -1)translate(0 -24)\" width=\"24\" x=\"67.445763\" xlink:href=\"data:image/png;base64,\r\niVBORw0KGgoAAAANSUhEUgAAABgAAAAYCAYAAADgdz34AAAABHNCSVQICAgIfAhkiAAAAIdJREFUSIndVFsKwDAIi2P3v3L3NbClvrGw5VdqjIklAAONuDqbHyG4teIY9vaISK2XFVhDEAST+cPdlGtjSYmowJK+1iUlqgcWiQc/j6kET3xDBJV7SCmwmnKkPfAmzEVQiat4yRpeT1pXxIk0TCZH4gccUOAaAhsPzC84YHrK5Ai+/9m1EzxCXCY5HMXqFAAAAABJRU5ErkJggg==\" y=\"-36.494977\"/>\r\n   </g>\r\n   <g id=\"patch_63\">\r\n    <path d=\"M 67.445763 60.494977 \r\nL 67.445763 36.850909 \r\n\" style=\"fill:none;stroke:#000000;stroke-linecap:square;stroke-linejoin:miter;stroke-width:0.8;\"/>\r\n   </g>\r\n   <g id=\"patch_64\">\r\n    <path d=\"M 91.089831 60.494977 \r\nL 91.089831 36.850909 \r\n\" style=\"fill:none;stroke:#000000;stroke-linecap:square;stroke-linejoin:miter;stroke-width:0.8;\"/>\r\n   </g>\r\n   <g id=\"patch_65\">\r\n    <path d=\"M 67.445763 60.494977 \r\nL 91.089831 60.494977 \r\n\" style=\"fill:none;stroke:#000000;stroke-linecap:square;stroke-linejoin:miter;stroke-width:0.8;\"/>\r\n   </g>\r\n   <g id=\"patch_66\">\r\n    <path d=\"M 67.445763 36.850909 \r\nL 91.089831 36.850909 \r\n\" style=\"fill:none;stroke:#000000;stroke-linecap:square;stroke-linejoin:miter;stroke-width:0.8;\"/>\r\n   </g>\r\n  </g>\r\n  <g id=\"axes_14\">\r\n   <g id=\"patch_67\">\r\n    <path d=\"M 95.818644 60.494977 \r\nL 119.462712 60.494977 \r\nL 119.462712 36.850909 \r\nL 95.818644 36.850909 \r\nz\r\n\" style=\"fill:#ffffff;\"/>\r\n   </g>\r\n   <g clip-path=\"url(#pe986b41387)\">\r\n    <image height=\"24\" id=\"image4286d481ba\" transform=\"scale(1 -1)translate(0 -24)\" width=\"24\" x=\"95.818644\" xlink:href=\"data:image/png;base64,\r\niVBORw0KGgoAAAANSUhEUgAAABgAAAAYCAYAAADgdz34AAAABHNCSVQICAgIfAhkiAAAAJRJREFUSIntlMESgCAIRKHp/395OzljKLKQ3tpjFo9tQRURyEFdJ4v/AEp39ALwngFVTQFUFlNkiw8fEzDqF2W7pgBR96zcDFTVhTRH/bnnkp6ivgAAATA8SwNsp7Muo3zSezBzshXQILbzzxlEQPdMiOt6lUGklIPKbqQ3OQsp78F2QFUpQMUFNUWe7HWxHcDoeAYPm884N8caFggAAAAASUVORK5CYII=\" y=\"-36.494977\"/>\r\n   </g>\r\n   <g id=\"patch_68\">\r\n    <path d=\"M 95.818644 60.494977 \r\nL 95.818644 36.850909 \r\n\" style=\"fill:none;stroke:#000000;stroke-linecap:square;stroke-linejoin:miter;stroke-width:0.8;\"/>\r\n   </g>\r\n   <g id=\"patch_69\">\r\n    <path d=\"M 119.462712 60.494977 \r\nL 119.462712 36.850909 \r\n\" style=\"fill:none;stroke:#000000;stroke-linecap:square;stroke-linejoin:miter;stroke-width:0.8;\"/>\r\n   </g>\r\n   <g id=\"patch_70\">\r\n    <path d=\"M 95.818644 60.494977 \r\nL 119.462712 60.494977 \r\n\" style=\"fill:none;stroke:#000000;stroke-linecap:square;stroke-linejoin:miter;stroke-width:0.8;\"/>\r\n   </g>\r\n   <g id=\"patch_71\">\r\n    <path d=\"M 95.818644 36.850909 \r\nL 119.462712 36.850909 \r\n\" style=\"fill:none;stroke:#000000;stroke-linecap:square;stroke-linejoin:miter;stroke-width:0.8;\"/>\r\n   </g>\r\n  </g>\r\n  <g id=\"axes_15\">\r\n   <g id=\"patch_72\">\r\n    <path d=\"M 124.191525 60.494977 \r\nL 147.835593 60.494977 \r\nL 147.835593 36.850909 \r\nL 124.191525 36.850909 \r\nz\r\n\" style=\"fill:#ffffff;\"/>\r\n   </g>\r\n   <g clip-path=\"url(#pd8d07a472f)\">\r\n    <image height=\"24\" id=\"image09057f70d6\" transform=\"scale(1 -1)translate(0 -24)\" width=\"24\" x=\"124.191525\" xlink:href=\"data:image/png;base64,\r\niVBORw0KGgoAAAANSUhEUgAAABgAAAAYCAYAAADgdz34AAAABHNCSVQICAgIfAhkiAAAAEtJREFUSIljZGBg+M9AQ8BES8PpYgELKYr//0eEJiMjI1F6BmcQEet6si0gBYxaMGrBqAUjygJYSUpKOUSSBeQCmlvAyDBaJw+0BQBeWwgyaVPO5wAAAABJRU5ErkJggg==\" y=\"-36.494977\"/>\r\n   </g>\r\n   <g id=\"patch_73\">\r\n    <path d=\"M 124.191525 60.494977 \r\nL 124.191525 36.850909 \r\n\" style=\"fill:none;stroke:#000000;stroke-linecap:square;stroke-linejoin:miter;stroke-width:0.8;\"/>\r\n   </g>\r\n   <g id=\"patch_74\">\r\n    <path d=\"M 147.835593 60.494977 \r\nL 147.835593 36.850909 \r\n\" style=\"fill:none;stroke:#000000;stroke-linecap:square;stroke-linejoin:miter;stroke-width:0.8;\"/>\r\n   </g>\r\n   <g id=\"patch_75\">\r\n    <path d=\"M 124.191525 60.494977 \r\nL 147.835593 60.494977 \r\n\" style=\"fill:none;stroke:#000000;stroke-linecap:square;stroke-linejoin:miter;stroke-width:0.8;\"/>\r\n   </g>\r\n   <g id=\"patch_76\">\r\n    <path d=\"M 124.191525 36.850909 \r\nL 147.835593 36.850909 \r\n\" style=\"fill:none;stroke:#000000;stroke-linecap:square;stroke-linejoin:miter;stroke-width:0.8;\"/>\r\n   </g>\r\n  </g>\r\n  <g id=\"axes_16\">\r\n   <g id=\"patch_77\">\r\n    <path d=\"M 152.564407 60.494977 \r\nL 176.208475 60.494977 \r\nL 176.208475 36.850909 \r\nL 152.564407 36.850909 \r\nz\r\n\" style=\"fill:#ffffff;\"/>\r\n   </g>\r\n   <g clip-path=\"url(#pad781e6470)\">\r\n    <image height=\"24\" id=\"image7f377a1a6b\" transform=\"scale(1 -1)translate(0 -24)\" width=\"24\" x=\"152.564407\" xlink:href=\"data:image/png;base64,\r\niVBORw0KGgoAAAANSUhEUgAAABgAAAAYCAYAAADgdz34AAAABHNCSVQICAgIfAhkiAAAAIJJREFUSIntlEsKwEAIQ7X0/le2q4IUOzEThC6a9egzfsbNLGxQB3oQofGXADU5BLi7DIItUiEQkLUDoQA7ciPWNDu4W4c07oAC5Kq786AddFsDARHxWiWzuiUgB6qQEsC2YQVpzUD5KuAdMMkr5ycbxLqhLvmpzmVLgI6+9VX8gBFdDLc7FMmKH/4AAAAASUVORK5CYII=\" y=\"-36.494977\"/>\r\n   </g>\r\n   <g id=\"patch_78\">\r\n    <path d=\"M 152.564407 60.494977 \r\nL 152.564407 36.850909 \r\n\" style=\"fill:none;stroke:#000000;stroke-linecap:square;stroke-linejoin:miter;stroke-width:0.8;\"/>\r\n   </g>\r\n   <g id=\"patch_79\">\r\n    <path d=\"M 176.208475 60.494977 \r\nL 176.208475 36.850909 \r\n\" style=\"fill:none;stroke:#000000;stroke-linecap:square;stroke-linejoin:miter;stroke-width:0.8;\"/>\r\n   </g>\r\n   <g id=\"patch_80\">\r\n    <path d=\"M 152.564407 60.494977 \r\nL 176.208475 60.494977 \r\n\" style=\"fill:none;stroke:#000000;stroke-linecap:square;stroke-linejoin:miter;stroke-width:0.8;\"/>\r\n   </g>\r\n   <g id=\"patch_81\">\r\n    <path d=\"M 152.564407 36.850909 \r\nL 176.208475 36.850909 \r\n\" style=\"fill:none;stroke:#000000;stroke-linecap:square;stroke-linejoin:miter;stroke-width:0.8;\"/>\r\n   </g>\r\n  </g>\r\n  <g id=\"axes_17\">\r\n   <g id=\"patch_82\">\r\n    <path d=\"M 180.937288 60.494977 \r\nL 204.581356 60.494977 \r\nL 204.581356 36.850909 \r\nL 180.937288 36.850909 \r\nz\r\n\" style=\"fill:#ffffff;\"/>\r\n   </g>\r\n   <g clip-path=\"url(#pe7c8c6dc58)\">\r\n    <image height=\"24\" id=\"imagebe280e45eb\" transform=\"scale(1 -1)translate(0 -24)\" width=\"24\" x=\"180.937288\" xlink:href=\"data:image/png;base64,\r\niVBORw0KGgoAAAANSUhEUgAAABgAAAAYCAYAAADgdz34AAAABHNCSVQICAgIfAhkiAAAAIVJREFUSIntlUsOgDAIRMF4/yuPq5pGqQxUYjSybTqPT4eqiEAKY6kU/wZgHR0A59GoahhgVnAUb8IATHAY0As38T77CCQ0gwzkEmC1JDoHFcJobLYWnAJkwA02fKZseC2bNprXvvevChfgtaBsBrcYzRNjTDdlNAZAVZBZ0/td+f/kpwEbUz0yKAc+q3cAAAAASUVORK5CYII=\" y=\"-36.494977\"/>\r\n   </g>\r\n   <g id=\"patch_83\">\r\n    <path d=\"M 180.937288 60.494977 \r\nL 180.937288 36.850909 \r\n\" style=\"fill:none;stroke:#000000;stroke-linecap:square;stroke-linejoin:miter;stroke-width:0.8;\"/>\r\n   </g>\r\n   <g id=\"patch_84\">\r\n    <path d=\"M 204.581356 60.494977 \r\nL 204.581356 36.850909 \r\n\" style=\"fill:none;stroke:#000000;stroke-linecap:square;stroke-linejoin:miter;stroke-width:0.8;\"/>\r\n   </g>\r\n   <g id=\"patch_85\">\r\n    <path d=\"M 180.937288 60.494977 \r\nL 204.581356 60.494977 \r\n\" style=\"fill:none;stroke:#000000;stroke-linecap:square;stroke-linejoin:miter;stroke-width:0.8;\"/>\r\n   </g>\r\n   <g id=\"patch_86\">\r\n    <path d=\"M 180.937288 36.850909 \r\nL 204.581356 36.850909 \r\n\" style=\"fill:none;stroke:#000000;stroke-linecap:square;stroke-linejoin:miter;stroke-width:0.8;\"/>\r\n   </g>\r\n  </g>\r\n  <g id=\"axes_18\">\r\n   <g id=\"patch_87\">\r\n    <path d=\"M 209.310169 60.494977 \r\nL 232.954237 60.494977 \r\nL 232.954237 36.850909 \r\nL 209.310169 36.850909 \r\nz\r\n\" style=\"fill:#ffffff;\"/>\r\n   </g>\r\n   <g clip-path=\"url(#pd5eb68c452)\">\r\n    <image height=\"24\" id=\"image09da6584c8\" transform=\"scale(1 -1)translate(0 -24)\" width=\"24\" x=\"209.310169\" xlink:href=\"data:image/png;base64,\r\niVBORw0KGgoAAAANSUhEUgAAABgAAAAYCAYAAADgdz34AAAABHNCSVQICAgIfAhkiAAAAIhJREFUSInNVUEOgDAIA+P/v1xPJGo2VlAWejVpoS1TRQRSiKOSfIvA6X0Enu6palhgusGbPAvKIpscQFiYziBjjyuQJaQFRiJ3q1i4LTLSL4H3OLRRHuxWlMBWi6LtSmUQaVNYwEjZ61Yh/weraWfW/VbT2QDLQzN44XrblR8anUEWPZ6K1gIX2YowK0qubgkAAAAASUVORK5CYII=\" y=\"-36.494977\"/>\r\n   </g>\r\n   <g id=\"patch_88\">\r\n    <path d=\"M 209.310169 60.494977 \r\nL 209.310169 36.850909 \r\n\" style=\"fill:none;stroke:#000000;stroke-linecap:square;stroke-linejoin:miter;stroke-width:0.8;\"/>\r\n   </g>\r\n   <g id=\"patch_89\">\r\n    <path d=\"M 232.954237 60.494977 \r\nL 232.954237 36.850909 \r\n\" style=\"fill:none;stroke:#000000;stroke-linecap:square;stroke-linejoin:miter;stroke-width:0.8;\"/>\r\n   </g>\r\n   <g id=\"patch_90\">\r\n    <path d=\"M 209.310169 60.494977 \r\nL 232.954237 60.494977 \r\n\" style=\"fill:none;stroke:#000000;stroke-linecap:square;stroke-linejoin:miter;stroke-width:0.8;\"/>\r\n   </g>\r\n   <g id=\"patch_91\">\r\n    <path d=\"M 209.310169 36.850909 \r\nL 232.954237 36.850909 \r\n\" style=\"fill:none;stroke:#000000;stroke-linecap:square;stroke-linejoin:miter;stroke-width:0.8;\"/>\r\n   </g>\r\n  </g>\r\n  <g id=\"axes_19\">\r\n   <g id=\"patch_92\">\r\n    <path d=\"M 237.683051 60.494977 \r\nL 261.327119 60.494977 \r\nL 261.327119 36.850909 \r\nL 237.683051 36.850909 \r\nz\r\n\" style=\"fill:#ffffff;\"/>\r\n   </g>\r\n   <g clip-path=\"url(#pbd1e2acd26)\">\r\n    <image height=\"24\" id=\"imagea4a1e6936c\" transform=\"scale(1 -1)translate(0 -24)\" width=\"24\" x=\"237.683051\" xlink:href=\"data:image/png;base64,\r\niVBORw0KGgoAAAANSUhEUgAAABgAAAAYCAYAAADgdz34AAAABHNCSVQICAgIfAhkiAAAAIFJREFUSIndlFEKwDAIQ3Xs/ld2X0KpQmNsoSzfxacmVkXE5KCek8X/AXjRh2bRKlXdAzCzUCwDZlJppCgDz2p7sJqkBUA8uC+m40oQo9sTrNYEpWhOi3e+7Q5CV0BhF7wi9LAogHfMQO6JKTtFaQIGUl5RFUJ5UIG0vmtE96SI1QebzDEp0eKqhgAAAABJRU5ErkJggg==\" y=\"-36.494977\"/>\r\n   </g>\r\n   <g id=\"patch_93\">\r\n    <path d=\"M 237.683051 60.494977 \r\nL 237.683051 36.850909 \r\n\" style=\"fill:none;stroke:#000000;stroke-linecap:square;stroke-linejoin:miter;stroke-width:0.8;\"/>\r\n   </g>\r\n   <g id=\"patch_94\">\r\n    <path d=\"M 261.327119 60.494977 \r\nL 261.327119 36.850909 \r\n\" style=\"fill:none;stroke:#000000;stroke-linecap:square;stroke-linejoin:miter;stroke-width:0.8;\"/>\r\n   </g>\r\n   <g id=\"patch_95\">\r\n    <path d=\"M 237.683051 60.494977 \r\nL 261.327119 60.494977 \r\n\" style=\"fill:none;stroke:#000000;stroke-linecap:square;stroke-linejoin:miter;stroke-width:0.8;\"/>\r\n   </g>\r\n   <g id=\"patch_96\">\r\n    <path d=\"M 237.683051 36.850909 \r\nL 261.327119 36.850909 \r\n\" style=\"fill:none;stroke:#000000;stroke-linecap:square;stroke-linejoin:miter;stroke-width:0.8;\"/>\r\n   </g>\r\n  </g>\r\n  <g id=\"axes_20\">\r\n   <g id=\"patch_97\">\r\n    <path d=\"M 266.055932 60.494977 \r\nL 289.7 60.494977 \r\nL 289.7 36.850909 \r\nL 266.055932 36.850909 \r\nz\r\n\" style=\"fill:#ffffff;\"/>\r\n   </g>\r\n   <g clip-path=\"url(#pa557b46ba4)\">\r\n    <image height=\"24\" id=\"imageff5438c97a\" transform=\"scale(1 -1)translate(0 -24)\" width=\"24\" x=\"266.055932\" xlink:href=\"data:image/png;base64,\r\niVBORw0KGgoAAAANSUhEUgAAABgAAAAYCAYAAADgdz34AAAABHNCSVQICAgIfAhkiAAAAH5JREFUSInt1cEKgDAMA9BE/P9frqd6ENnS1MEOBjwJfWRukwACC3OMXkYEInr+ECDZGj4FEum0mAIZF5EBF5GAzreQGyRSbVFaIgcpAU5sQG1xfjnsLXstEcn7AbRmdgMVKR20vF2XbNPnaVYRwvjh5HDlCrGASvbapj+wJBfDVzMhQf52owAAAABJRU5ErkJggg==\" y=\"-36.494977\"/>\r\n   </g>\r\n   <g id=\"patch_98\">\r\n    <path d=\"M 266.055932 60.494977 \r\nL 266.055932 36.850909 \r\n\" style=\"fill:none;stroke:#000000;stroke-linecap:square;stroke-linejoin:miter;stroke-width:0.8;\"/>\r\n   </g>\r\n   <g id=\"patch_99\">\r\n    <path d=\"M 289.7 60.494977 \r\nL 289.7 36.850909 \r\n\" style=\"fill:none;stroke:#000000;stroke-linecap:square;stroke-linejoin:miter;stroke-width:0.8;\"/>\r\n   </g>\r\n   <g id=\"patch_100\">\r\n    <path d=\"M 266.055932 60.494977 \r\nL 289.7 60.494977 \r\n\" style=\"fill:none;stroke:#000000;stroke-linecap:square;stroke-linejoin:miter;stroke-width:0.8;\"/>\r\n   </g>\r\n   <g id=\"patch_101\">\r\n    <path d=\"M 266.055932 36.850909 \r\nL 289.7 36.850909 \r\n\" style=\"fill:none;stroke:#000000;stroke-linecap:square;stroke-linejoin:miter;stroke-width:0.8;\"/>\r\n   </g>\r\n  </g>\r\n </g>\r\n <defs>\r\n  <clipPath id=\"p145cb0a238\">\r\n   <rect height=\"23.644068\" width=\"23.644068\" x=\"10.7\" y=\"7.2\"/>\r\n  </clipPath>\r\n  <clipPath id=\"p661d36036f\">\r\n   <rect height=\"23.644068\" width=\"23.644068\" x=\"39.072881\" y=\"7.2\"/>\r\n  </clipPath>\r\n  <clipPath id=\"p0c8c5a4ebc\">\r\n   <rect height=\"23.644068\" width=\"23.644068\" x=\"67.445763\" y=\"7.2\"/>\r\n  </clipPath>\r\n  <clipPath id=\"p4d78562d45\">\r\n   <rect height=\"23.644068\" width=\"23.644068\" x=\"95.818644\" y=\"7.2\"/>\r\n  </clipPath>\r\n  <clipPath id=\"pfea022cc91\">\r\n   <rect height=\"23.644068\" width=\"23.644068\" x=\"124.191525\" y=\"7.2\"/>\r\n  </clipPath>\r\n  <clipPath id=\"p33052d9465\">\r\n   <rect height=\"23.644068\" width=\"23.644068\" x=\"152.564407\" y=\"7.2\"/>\r\n  </clipPath>\r\n  <clipPath id=\"p60ef942a73\">\r\n   <rect height=\"23.644068\" width=\"23.644068\" x=\"180.937288\" y=\"7.2\"/>\r\n  </clipPath>\r\n  <clipPath id=\"p570a283a0e\">\r\n   <rect height=\"23.644068\" width=\"23.644068\" x=\"209.310169\" y=\"7.2\"/>\r\n  </clipPath>\r\n  <clipPath id=\"pe0892bb610\">\r\n   <rect height=\"23.644068\" width=\"23.644068\" x=\"237.683051\" y=\"7.2\"/>\r\n  </clipPath>\r\n  <clipPath id=\"p5587cdf7e9\">\r\n   <rect height=\"23.644068\" width=\"23.644068\" x=\"266.055932\" y=\"7.2\"/>\r\n  </clipPath>\r\n  <clipPath id=\"p3094669f70\">\r\n   <rect height=\"23.644068\" width=\"23.644068\" x=\"10.7\" y=\"36.850909\"/>\r\n  </clipPath>\r\n  <clipPath id=\"p6e1d9e8007\">\r\n   <rect height=\"23.644068\" width=\"23.644068\" x=\"39.072881\" y=\"36.850909\"/>\r\n  </clipPath>\r\n  <clipPath id=\"p0b7490f689\">\r\n   <rect height=\"23.644068\" width=\"23.644068\" x=\"67.445763\" y=\"36.850909\"/>\r\n  </clipPath>\r\n  <clipPath id=\"pe986b41387\">\r\n   <rect height=\"23.644068\" width=\"23.644068\" x=\"95.818644\" y=\"36.850909\"/>\r\n  </clipPath>\r\n  <clipPath id=\"pd8d07a472f\">\r\n   <rect height=\"23.644068\" width=\"23.644068\" x=\"124.191525\" y=\"36.850909\"/>\r\n  </clipPath>\r\n  <clipPath id=\"pad781e6470\">\r\n   <rect height=\"23.644068\" width=\"23.644068\" x=\"152.564407\" y=\"36.850909\"/>\r\n  </clipPath>\r\n  <clipPath id=\"pe7c8c6dc58\">\r\n   <rect height=\"23.644068\" width=\"23.644068\" x=\"180.937288\" y=\"36.850909\"/>\r\n  </clipPath>\r\n  <clipPath id=\"pd5eb68c452\">\r\n   <rect height=\"23.644068\" width=\"23.644068\" x=\"209.310169\" y=\"36.850909\"/>\r\n  </clipPath>\r\n  <clipPath id=\"pbd1e2acd26\">\r\n   <rect height=\"23.644068\" width=\"23.644068\" x=\"237.683051\" y=\"36.850909\"/>\r\n  </clipPath>\r\n  <clipPath id=\"pa557b46ba4\">\r\n   <rect height=\"23.644068\" width=\"23.644068\" x=\"266.055932\" y=\"36.850909\"/>\r\n  </clipPath>\r\n </defs>\r\n</svg>\r\n",
      "text/plain": "<Figure size 360x72 with 20 Axes>"
     },
     "metadata": {
      "needs_background": "light"
     },
     "output_type": "display_data"
    }
   ],
   "source": [
    "fig, ax = plt.subplots(2, 10, figsize=(5,1))\n",
    "ax = ax.flatten()\n",
    "for i in range(20):\n",
    "    ax[i].imshow(images[i].squeeze().asnumpy(), cmap=\"gray\")\n",
    "    ax[i].axes.get_xaxis().set_visible(False)\n",
    "    ax[i].axes.get_yaxis().set_visible(False)"
   ]
  },
  {
   "cell_type": "markdown",
   "metadata": {},
   "outputs": [],
   "source": [
    "- based on the naive bayes \n"
   ]
  },
  {
   "cell_type": "code",
   "execution_count": 4,
   "metadata": {},
   "outputs": [],
   "source": [
    "# initilize the counters\n",
    "xCount = nd.zeros((784,10))\n",
    "yCount = nd.zeros((10))\n",
    "\n",
    "for data, label in mnistTrain:\n",
    "    y = int(label)\n",
    "    yCount[y] += 1\n",
    "    xCount[:,y] += data.reshape((784))\n"
   ]
  },
  {
   "cell_type": "code",
   "metadata": {},
   "outputs": [],
   "source": []
  },
  {
   "cell_type": "code",
   "metadata": {},
   "outputs": [],
   "source": []
  },
  {
   "cell_type": "code",
   "metadata": {},
   "outputs": [],
   "source": []
  },
  {
   "cell_type": "code",
   "metadata": {},
   "outputs": [],
   "source": []
  },
  {
   "cell_type": "code",
   "metadata": {},
   "outputs": [],
   "source": []
  },
  {
   "cell_type": "code",
   "metadata": {},
   "outputs": [],
   "source": []
  },
  {
   "cell_type": "code",
   "metadata": {},
   "outputs": [],
   "source": []
  },
  {
   "cell_type": "code",
   "metadata": {},
   "outputs": [],
   "source": []
  },
  {
   "cell_type": "code",
   "metadata": {},
   "outputs": [],
   "source": []
  },
  {
   "cell_type": "code",
   "metadata": {},
   "outputs": [],
   "source": []
  }
 ]
}