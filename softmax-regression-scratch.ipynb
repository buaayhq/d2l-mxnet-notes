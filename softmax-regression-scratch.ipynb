{
 "nbformat": 4,
 "nbformat_minor": 2,
 "metadata": {
  "language_info": {
   "name": "python",
   "codemirror_mode": {
    "name": "ipython",
    "version": 3
   },
   "version": "3.6.9-final"
  },
  "orig_nbformat": 2,
  "file_extension": ".py",
  "mimetype": "text/x-python",
  "name": "python",
  "npconvert_exporter": "python",
  "pygments_lexer": "ipython3",
  "version": 3,
  "kernelspec": {
   "name": "python36964bitbasecondad27f93631629411b9480153bb821ee35",
   "display_name": "Python 3.6.9 64-bit ('base': conda)"
  }
 },
 "cells": [
  {
   "cell_type": "code",
   "execution_count": 1,
   "metadata": {},
   "outputs": [],
   "source": [
    "from mxnet import nd,autograd\n",
    "from IPython import display\n",
    "from matplotlib import pyplot as plt\n",
    "from mxnet.gluon import data as gdata\n",
    "display.set_matplotlib_formats(\"svg\")\n",
    "%matplotlib inline"
   ]
  },
  {
   "cell_type": "code",
   "execution_count": 2,
   "metadata": {},
   "outputs": [],
   "source": [
    "mnist_train = gdata.vision.FashionMNIST(root=\"./data\",train=True)\n",
    "mnist_test = gdata.vision.FashionMNIST(root=\"./data\", train=False)"
   ]
  },
  {
   "cell_type": "code",
   "execution_count": 3,
   "metadata": {},
   "outputs": [],
   "source": [
    "batch_size = 256\n",
    "transformer = gdata.vision.transforms.ToTensor()\n",
    "train_iter = gdata.DataLoader(mnist_train.transform_first(transformer), batch_size=batch_size, shuffle=True)\n",
    "test_iter = gdata.DataLoader(mnist_test.transform_first(transformer), batch_size=batch_size, shuffle=True)"
   ]
  },
  {
   "cell_type": "markdown",
   "execution_count": null,
   "metadata": {},
   "outputs": [],
   "source": [
    "## Initialize model parameters\n",
    "Since each image has 28*28 pixels, we can store it as a 784 dimensional vector."
   ]
  },
  {
   "cell_type": "code",
   "execution_count": 4,
   "metadata": {},
   "outputs": [],
   "source": [
    "num_inputs = 784\n",
    "num_outputs = 10\n",
    "W = nd.random.normal(scale=0.01, shape=(num_inputs, num_outputs))\n",
    "b = nd.zeros(num_outputs)"
   ]
  },
  {
   "cell_type": "markdown",
   "execution_count": null,
   "metadata": {},
   "outputs": [],
   "source": [
    "- attach a gradient to the model parameters"
   ]
  },
  {
   "cell_type": "code",
   "execution_count": 5,
   "metadata": {},
   "outputs": [],
   "source": [
    "W.attach_grad()\n",
    "b.attach_grad()"
   ]
  },
  {
   "cell_type": "markdown",
   "execution_count": null,
   "metadata": {},
   "outputs": [],
   "source": [
    "- softmax\n",
    "$$\n",
    "\\mathrm{softmax}(\\mathbf{X})_{ij}=\\frac{\\exp(\\mathbf{X}_{ij})}{\\sum_{k}\\exp{(\\mathbf{X}_{ik}})}\n",
    "$$"
   ]
  },
  {
   "cell_type": "code",
   "execution_count": 6,
   "metadata": {},
   "outputs": [],
   "source": [
    "def softmax(x):\n",
    "    x_exp = nd.exp(x)\n",
    "    partition = x_exp.sum(axis=1, keepdims=True)\n",
    "    return x_exp/partition"
   ]
  },
  {
   "cell_type": "code",
   "execution_count": 7,
   "metadata": {},
   "outputs": [
    {
     "data": {
      "text/plain": "\n[[ 1.7974477   0.19594945 -1.7376398   0.04734707  0.14580931]\n [ 0.32604915  0.4578783  -0.89425814  0.4938394  -0.90434265]]\n<NDArray 2x5 @cpu(0)>"
     },
     "execution_count": 7,
     "metadata": {},
     "output_type": "execute_result"
    }
   ],
   "source": [
    "x = nd.random.normal(shape=(2,5))\n",
    "x"
   ]
  },
  {
   "cell_type": "code",
   "execution_count": 8,
   "metadata": {},
   "outputs": [
    {
     "data": {
      "text/plain": "\n[[0.6264712  0.126293   0.01826552 0.10885343 0.12011679]\n [0.25569436 0.2917251  0.07546549 0.3024068  0.07470828]]\n<NDArray 2x5 @cpu(0)>"
     },
     "execution_count": 8,
     "metadata": {},
     "output_type": "execute_result"
    }
   ],
   "source": [
    "x_prob = softmax(x)\n",
    "x_prob"
   ]
  },
  {
   "cell_type": "code",
   "execution_count": 9,
   "metadata": {},
   "outputs": [
    {
     "data": {
      "text/plain": "\n[0.99999994 1.        ]\n<NDArray 2 @cpu(0)>"
     },
     "execution_count": 9,
     "metadata": {},
     "output_type": "execute_result"
    }
   ],
   "source": [
    "x_prob.sum(axis=1)"
   ]
  },
  {
   "cell_type": "markdown",
   "execution_count": null,
   "metadata": {},
   "outputs": [],
   "source": [
    "## define the model"
   ]
  },
  {
   "cell_type": "code",
   "execution_count": 10,
   "metadata": {},
   "outputs": [],
   "source": [
    "def net(x):\n",
    "    return softmax(nd.dot(x.reshape(-1, num_inputs),W)+b)"
   ]
  },
  {
   "cell_type": "markdown",
   "execution_count": null,
   "metadata": {},
   "outputs": [],
   "source": [
    "## the loss function\n",
    "- cross entropy\n",
    "$$\n",
    "l(\\mathbf{y}, \\hat{\\mathbf{y}}) = - \\sum_j y_j \\log \\hat{y}_j\n",
    "$$"
   ]
  },
  {
   "cell_type": "code",
   "execution_count": 11,
   "metadata": {},
   "outputs": [],
   "source": [
    "def cross_entropy(y_hat, y):\n",
    "    return -nd.pick(y_hat,y).log()"
   ]
  },
  {
   "cell_type": "markdown",
   "execution_count": null,
   "metadata": {},
   "outputs": [],
   "source": [
    "## classification accuracy"
   ]
  },
  {
   "cell_type": "code",
   "execution_count": 14,
   "metadata": {},
   "outputs": [],
   "source": [
    "def evaluate_accuracy(data_iter, net):\n",
    "    acc_sum, n = 0., 0\n",
    "    for x,y in data_iter:\n",
    "        y = y.astype(\"float32\")\n",
    "        acc_sum += (net(x).argmax(axis=1)==y).sum().asscalar()\n",
    "        n += y.size\n",
    "    return acc_sum/n"
   ]
  },
  {
   "cell_type": "markdown",
   "execution_count": null,
   "metadata": {},
   "outputs": [],
   "source": [
    "- Because we initilized the net model with random weights, the accuracy of this model should be close to random guessing, i.e., 0.1 for 10 classes."
   ]
  },
  {
   "cell_type": "code",
   "execution_count": 15,
   "metadata": {},
   "outputs": [
    {
     "data": {
      "text/plain": "0.0856"
     },
     "execution_count": 15,
     "metadata": {},
     "output_type": "execute_result"
    }
   ],
   "source": [
    "evaluate_accuracy(test_iter, net)"
   ]
  },
  {
   "cell_type": "markdown",
   "execution_count": null,
   "metadata": {},
   "outputs": [],
   "source": [
    "## model training"
   ]
  },
  {
   "cell_type": "code",
   "execution_count": 27,
   "metadata": {},
   "outputs": [],
   "source": [
    "def train(net, train_iter, test_iter, loss, num_epochs, batch_size, params, lr, trainer=None):\n",
    "    for epoch in range(num_epochs):\n",
    "        train_l_sum, train_acc_sum, n = 0., 0., 0\n",
    "        for x,y in train_iter:\n",
    "            with autograd.record():\n",
    "                y_hat = net(x)\n",
    "                l = loss(y_hat, y).sum()\n",
    "            l.backward()\n",
    "            for param in params:\n",
    "                param[:] = param - lr * param.grad / batch_size\n",
    "            y = y.astype(\"float32\")\n",
    "            train_l_sum += l.asscalar()\n",
    "            train_acc_sum += (y_hat.argmax(axis=1)==y).sum().asscalar()\n",
    "            n += y.size\n",
    "        test_acc = evaluate_accuracy(test_iter, net)\n",
    "        print(\"epoch %d, loss %.4f, train_acc %.3f, test_acc %.3f\" %(epoch+1, train_l_sum/n, train_acc_sum/n, test_acc)) "
   ]
  },
  {
   "cell_type": "code",
   "execution_count": 28,
   "metadata": {},
   "outputs": [
    {
     "name": "stdout",
     "output_type": "stream",
     "text": "epoch 1, loss 0.4783, train_acc 0.838, test_acc 0.837\nepoch 2, loss 0.4694, train_acc 0.841, test_acc 0.847\nepoch 3, loss 0.4620, train_acc 0.843, test_acc 0.845\nepoch 4, loss 0.4555, train_acc 0.845, test_acc 0.850\nepoch 5, loss 0.4509, train_acc 0.846, test_acc 0.850\n"
    }
   ],
   "source": [
    "num_epochs, lr = 5, 0.1\n",
    "train(net, train_iter, test_iter, cross_entropy, num_epochs, batch_size, [W,b], lr)"
   ]
  }
 ]
}